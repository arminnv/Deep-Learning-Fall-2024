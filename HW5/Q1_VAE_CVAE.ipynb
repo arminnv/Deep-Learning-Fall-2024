{
  "cells": [
    {
      "cell_type": "markdown",
      "metadata": {
        "id": "view-in-github",
        "colab_type": "text"
      },
      "source": [
        "<a href=\"https://colab.research.google.com/github/arminnv/Deep-Learning-Fall-2024/blob/main/HW5/Q1_VAE_CVAE.ipynb\" target=\"_parent\"><img src=\"https://colab.research.google.com/assets/colab-badge.svg\" alt=\"Open In Colab\"/></a>"
      ]
    },
    {
      "cell_type": "markdown",
      "metadata": {
        "id": "2Vn26lahhFJd"
      },
      "source": [
        "# Variational AutoEncoders\n",
        "\n",
        "Full Name:\n",
        "\n",
        "Student ID:"
      ]
    },
    {
      "cell_type": "markdown",
      "metadata": {
        "id": "VJZ8AefthL95"
      },
      "source": [
        "\n",
        "# Variational Autoencoder\n",
        "\n",
        "In this notebook, you will implement a variational autoencoder and a conditional variational autoencoder with slightly different architectures and apply them to the popular MNIST handwritten dataset."
      ]
    },
    {
      "cell_type": "markdown",
      "metadata": {
        "id": "JuIiv2bhjFoC"
      },
      "source": [
        "Load several useful packages that are used in this notebook:"
      ]
    },
    {
      "cell_type": "code",
      "execution_count": 1,
      "metadata": {
        "id": "sLdT7GSljI0f"
      },
      "outputs": [],
      "source": [
        "import math\n",
        "import torch\n",
        "import torch.nn as nn\n",
        "import torch.nn.functional as F\n",
        "from torch.nn import init\n",
        "import torchvision\n",
        "import torchvision.transforms as T\n",
        "import torch.optim as optim\n",
        "from torch.utils.data import DataLoader\n",
        "from torch.utils.data import sampler\n",
        "import torchvision.datasets as datasets\n",
        "import random\n",
        "import cv2\n",
        "import matplotlib as mpl\n",
        "import numpy as np\n",
        "from torchvision.utils import make_grid\n",
        "import matplotlib.pyplot as plt\n",
        "import matplotlib.gridspec as gridspec\n",
        "%matplotlib inline\n",
        "device = torch.device(\"cuda\" if torch.cuda.is_available() else \"cpu\")\n",
        "\n",
        "# for plotting\n",
        "plt.rcParams['figure.figsize'] = (10.0, 8.0)\n",
        "plt.rcParams['font.size'] = 16\n",
        "plt.rcParams['image.interpolation'] = 'nearest'\n",
        "plt.rcParams['image.cmap'] = 'gray'"
      ]
    },
    {
      "cell_type": "markdown",
      "metadata": {
        "id": "_nqWhiLojS8M"
      },
      "source": [
        "We will use GPUs to accelerate our computation in this notebook. Run the following to make sure GPUs are enabled:"
      ]
    },
    {
      "cell_type": "code",
      "execution_count": null,
      "metadata": {
        "id": "RdQhVgi5jVQp"
      },
      "outputs": [],
      "source": [
        "if torch.cuda.is_available():\n",
        "    print('Good to go!')\n",
        "else:\n",
        "    print('Please set GPU via Edit -> Notebook Settings.')"
      ]
    },
    {
      "cell_type": "markdown",
      "metadata": {
        "id": "bcqRQILRjchz"
      },
      "source": [
        "## Load MNIST Dataset\n",
        "\n",
        "\n",
        "VAEs are notoriously finicky with hyperparameters, and also require many training epochs. In order to make this assignment approachable, we will be working on the MNIST dataset, which has 60,000 training and 10,000 test images. Each picture contains a centered image of white digit on black background (0 through 9). This was one of the first datasets used to train convolutional neural networks and it is fairly easy -- a standard CNN model can easily exceed 99% accuracy.\n",
        "\n",
        "To simplify our code here, we will use the PyTorch MNIST wrapper, which downloads and loads the MNIST dataset."
      ]
    },
    {
      "cell_type": "code",
      "execution_count": 2,
      "metadata": {
        "id": "mExnwvTXjcF_",
        "colab": {
          "base_uri": "https://localhost:8080/"
        },
        "outputId": "d23af51a-038e-44a1-f9d0-879f43066a26"
      },
      "outputs": [
        {
          "output_type": "stream",
          "name": "stdout",
          "text": [
            "Downloading http://yann.lecun.com/exdb/mnist/train-images-idx3-ubyte.gz\n",
            "Failed to download (trying next):\n",
            "<urlopen error [Errno 111] Connection refused>\n",
            "\n",
            "Downloading https://ossci-datasets.s3.amazonaws.com/mnist/train-images-idx3-ubyte.gz\n",
            "Downloading https://ossci-datasets.s3.amazonaws.com/mnist/train-images-idx3-ubyte.gz to ./MNIST_data/MNIST/raw/train-images-idx3-ubyte.gz\n"
          ]
        },
        {
          "output_type": "stream",
          "name": "stderr",
          "text": [
            "100%|██████████| 9.91M/9.91M [00:00<00:00, 15.9MB/s]\n"
          ]
        },
        {
          "output_type": "stream",
          "name": "stdout",
          "text": [
            "Extracting ./MNIST_data/MNIST/raw/train-images-idx3-ubyte.gz to ./MNIST_data/MNIST/raw\n",
            "\n",
            "Downloading http://yann.lecun.com/exdb/mnist/train-labels-idx1-ubyte.gz\n",
            "Failed to download (trying next):\n",
            "<urlopen error [Errno 111] Connection refused>\n",
            "\n",
            "Downloading https://ossci-datasets.s3.amazonaws.com/mnist/train-labels-idx1-ubyte.gz\n",
            "Downloading https://ossci-datasets.s3.amazonaws.com/mnist/train-labels-idx1-ubyte.gz to ./MNIST_data/MNIST/raw/train-labels-idx1-ubyte.gz\n"
          ]
        },
        {
          "output_type": "stream",
          "name": "stderr",
          "text": [
            "100%|██████████| 28.9k/28.9k [00:00<00:00, 491kB/s]\n"
          ]
        },
        {
          "output_type": "stream",
          "name": "stdout",
          "text": [
            "Extracting ./MNIST_data/MNIST/raw/train-labels-idx1-ubyte.gz to ./MNIST_data/MNIST/raw\n",
            "\n",
            "Downloading http://yann.lecun.com/exdb/mnist/t10k-images-idx3-ubyte.gz\n",
            "Failed to download (trying next):\n",
            "<urlopen error [Errno 111] Connection refused>\n",
            "\n",
            "Downloading https://ossci-datasets.s3.amazonaws.com/mnist/t10k-images-idx3-ubyte.gz\n",
            "Downloading https://ossci-datasets.s3.amazonaws.com/mnist/t10k-images-idx3-ubyte.gz to ./MNIST_data/MNIST/raw/t10k-images-idx3-ubyte.gz\n"
          ]
        },
        {
          "output_type": "stream",
          "name": "stderr",
          "text": [
            "100%|██████████| 1.65M/1.65M [00:00<00:00, 4.48MB/s]\n"
          ]
        },
        {
          "output_type": "stream",
          "name": "stdout",
          "text": [
            "Extracting ./MNIST_data/MNIST/raw/t10k-images-idx3-ubyte.gz to ./MNIST_data/MNIST/raw\n",
            "\n",
            "Downloading http://yann.lecun.com/exdb/mnist/t10k-labels-idx1-ubyte.gz\n",
            "Failed to download (trying next):\n",
            "<urlopen error [Errno 111] Connection refused>\n",
            "\n",
            "Downloading https://ossci-datasets.s3.amazonaws.com/mnist/t10k-labels-idx1-ubyte.gz\n",
            "Downloading https://ossci-datasets.s3.amazonaws.com/mnist/t10k-labels-idx1-ubyte.gz to ./MNIST_data/MNIST/raw/t10k-labels-idx1-ubyte.gz\n"
          ]
        },
        {
          "output_type": "stream",
          "name": "stderr",
          "text": [
            "100%|██████████| 4.54k/4.54k [00:00<00:00, 2.42MB/s]"
          ]
        },
        {
          "output_type": "stream",
          "name": "stdout",
          "text": [
            "Extracting ./MNIST_data/MNIST/raw/t10k-labels-idx1-ubyte.gz to ./MNIST_data/MNIST/raw\n",
            "\n"
          ]
        },
        {
          "output_type": "stream",
          "name": "stderr",
          "text": [
            "\n"
          ]
        }
      ],
      "source": [
        "batch_size = 128\n",
        "\n",
        "mnist_train = datasets.MNIST('./MNIST_data', train=True, download=True,\n",
        "                           transform=T.ToTensor())\n",
        "loader_train = DataLoader(mnist_train, batch_size=batch_size,\n",
        "                          shuffle=True, drop_last=True, num_workers=2)\n"
      ]
    },
    {
      "cell_type": "markdown",
      "metadata": {
        "id": "CwDmYBjdhTrM"
      },
      "source": [
        "## Visualize dataset"
      ]
    },
    {
      "cell_type": "markdown",
      "metadata": {
        "id": "Q2X_21cTwsox"
      },
      "source": [
        "It is always a good idea to look at examples from the dataset before working with it. Let's visualize the digits in the MNIST dataset. We have defined the function `show_images` to visualize the images.\n"
      ]
    },
    {
      "cell_type": "code",
      "execution_count": 3,
      "metadata": {
        "id": "3JMbbxMkwrYg",
        "colab": {
          "base_uri": "https://localhost:8080/",
          "height": 883
        },
        "outputId": "f4bdfcc0-eeaf-412a-c03b-3780da6891a0"
      },
      "outputs": [
        {
          "output_type": "display_data",
          "data": {
            "text/plain": [
              "<Figure size 1200x1200 with 128 Axes>"
            ],
            "image/png": "[encoded data removed]"
          },
          "metadata": {}
        }
      ],
      "source": [
        "def show_images(images):\n",
        "    images = torch.reshape(\n",
        "        images, [images.shape[0], -1]\n",
        "    )\n",
        "    sqrtn = int(math.ceil(math.sqrt(images.shape[0])))\n",
        "    sqrtimg = int(math.ceil(math.sqrt(images.shape[1])))\n",
        "\n",
        "    fig = plt.figure(figsize=(sqrtn, sqrtn))\n",
        "    gs = gridspec.GridSpec(sqrtn, sqrtn)\n",
        "    gs.update(wspace=0.05, hspace=0.05)\n",
        "\n",
        "    for i, img in enumerate(images):\n",
        "        ax = plt.subplot(gs[i])\n",
        "        plt.axis(\"off\")\n",
        "        ax.set_xticklabels([])\n",
        "        ax.set_yticklabels([])\n",
        "        ax.set_aspect(\"equal\")\n",
        "        plt.imshow(img.reshape([sqrtimg, sqrtimg]))\n",
        "    return\n",
        "\n",
        "data_iter = iter(loader_train)\n",
        "imgs, _ = next(data_iter)\n",
        "imgs = imgs.view(batch_size, 784)\n",
        "show_images(imgs)"
      ]
    },
    {
      "cell_type": "markdown",
      "metadata": {
        "id": "tOdQ3r5diEwr"
      },
      "source": [
        "# Fully Connected VAE\n",
        "\n",
        "Your first VAE implementation will consist solely of fully connected layers. You'll take the `1 x 28 x 28` shape of our input and flatten the features to create an input dimension size of 784. In this section you'll define the Encoder and Decoder models in the VAE class and implement the reparametrization trick, forward pass, and loss function to train your first VAE."
      ]
    },
    {
      "cell_type": "markdown",
      "metadata": {
        "id": "XOfC7oDrkUhl"
      },
      "source": [
        "## FC-VAE Forward\n",
        "\n",
        "Complete the VAE class by writing the initialization and the forward pass. The forward pass should pass the input image through the encoder to calculate the estimation of mu and logvar, reparametrize to estimate the latent space z, and finally pass z into the decoder to generate an image.\n",
        "\n"
      ]
    },
    {
      "cell_type": "code",
      "source": [
        "# Define a simple VAE class with MLP architecture\n",
        "\n",
        "class VAE_MLP(nn.Module):\n",
        "    def __init__(self, input_dim, hidden_dim, latent_dim, device):\n",
        "        super(VAE_MLP, self).__init__()\n",
        "        # TODO: Define the architecture of the encoder and decoder\n",
        "        self.latent_size = latent_dim\n",
        "        self.encoder = nn.Sequential(\n",
        "            # TODO: Add layers for the encoder\n",
        "            nn.Flatten(),\n",
        "            nn.Linear(input_dim, hidden_dim),\n",
        "            nn.ReLU(),\n",
        "            nn.Linear(hidden_dim, hidden_dim // 2),\n",
        "            nn.ReLU(),\n",
        "        )\n",
        "        self.fc_mu = nn.Linear(hidden_dim // 2, self.latent_size)\n",
        "        self.fc_logvar = nn.Linear(hidden_dim // 2, self.latent_size)\n",
        "\n",
        "        self.decoder = nn.Sequential(\n",
        "            # TODO: Add layers for the decoder\n",
        "            nn.Linear(self.latent_size, hidden_dim // 2),\n",
        "            nn.ReLU(),\n",
        "            nn.Linear(hidden_dim // 2, hidden_dim),\n",
        "            nn.ReLU(),\n",
        "            nn.Linear(hidden_dim, input_dim),\n",
        "            nn.Sigmoid()  # Output values between 0 and 1\n",
        "        )\n",
        "\n",
        "    def reparameterize(self, mu, logvar):\n",
        "        # TODO: Implement the reparameterization trick\n",
        "        std = torch.exp(0.5 * logvar)\n",
        "        eps = torch.randn_like(std)\n",
        "        z = mu + std * eps\n",
        "\n",
        "        return z\n",
        "\n",
        "    def forward(self, x):\n",
        "        # TODO: Implement the forward pass\n",
        "        x = self.encoder(x)\n",
        "        mu = self.fc_mu(x)\n",
        "        logvar = self.fc_logvar(x)\n",
        "\n",
        "        z = self.reparameterize(mu, logvar)\n",
        "\n",
        "        reconstructed = self.decoder(z)\n",
        "        reconstructed = torch.unflatten(reconstructed, dim=1, sizes=(28, 28))\n",
        "\n",
        "        return reconstructed, logvar, mu"
      ],
      "metadata": {
        "id": "Wg7Yk0ODjWPa"
      },
      "execution_count": 12,
      "outputs": []
    },
    {
      "cell_type": "markdown",
      "source": [
        "## Loss Function\n",
        "\n",
        "Complete the vae_loss function below"
      ],
      "metadata": {
        "id": "qfNOoeJ3qPtR"
      }
    },
    {
      "cell_type": "code",
      "execution_count": 8,
      "metadata": {
        "id": "vF2ZUj2FjrFa"
      },
      "outputs": [],
      "source": [
        "# Define VAE loss function\n",
        "\n",
        "def vae_loss(recon, data, mu, logvar):\n",
        "    # TODO: Implement the reconstruction loss\n",
        "    recon_loss = F.binary_cross_entropy(recon, data, reduction='sum')\n",
        "\n",
        "    # TODO: Implement the KL divergence loss\n",
        "    kl_loss = -0.5 * torch.sum(1 + logvar - mu.pow(2) - logvar.exp())\n",
        "\n",
        "    # TODO: Return the total loss as the sum of reconstruction and KL divergence losses\n",
        "    total_loss = recon_loss + kl_loss\n",
        "\n",
        "    return total_loss"
      ]
    },
    {
      "cell_type": "markdown",
      "metadata": {
        "id": "wV8fbzenkAXm"
      },
      "source": [
        "\n",
        "## Train a model\n",
        "\n",
        "Now that we have our VAE defined and loss function ready, lets train our model!\n",
        "\n",
        "Complete the train_vae_mlp function to train the network."
      ]
    },
    {
      "cell_type": "code",
      "source": [
        "def train_vae_mlp(model, train_loader, num_epochs=20, learning_rate=1e-3):\n",
        "    model.train()\n",
        "    optimizer = optim.Adam(model.parameters(), lr=learning_rate)\n",
        "    device = torch.device('cuda' if torch.cuda.is_available() else 'cpu')\n",
        "\n",
        "    for epoch in range(num_epochs):\n",
        "        print()\n",
        "        print(45 * \"=\")\n",
        "        total_loss = []\n",
        "        for batch_idx, (data, _) in enumerate(train_loader):\n",
        "            # TODO: Forward process\n",
        "            optimizer.zero_grad()\n",
        "            recon, logvar, mu = model(data)\n",
        "\n",
        "            # TODO: Flatten the data and recon tensors\n",
        "            data = torch.flatten(data, 1)\n",
        "            recon = torch.flatten(recon, 1)\n",
        "\n",
        "            # TODO: Calculate the loss using the vae_loss function\n",
        "            loss = vae_loss(recon, data, mu, logvar)\n",
        "\n",
        "\n",
        "            # TODO: Backpropagation and optimization step\n",
        "            loss.backward()\n",
        "            optimizer.step()\n",
        "            #loss =\n",
        "            total_loss.append(loss.item())\n",
        "\n",
        "        avg_loss = float(sum(total_loss)/len(total_loss))\n",
        "        print(f'VAE- Epoch [{epoch+1}/{num_epochs}], Loss: {avg_loss}')"
      ],
      "metadata": {
        "id": "aOc6Z94M3AbP"
      },
      "execution_count": 14,
      "outputs": []
    },
    {
      "cell_type": "code",
      "source": [
        "# TODO: Train VAE\n",
        "latent_size = 10\n",
        "VAE = VAE_MLP(input_dim=784 , hidden_dim=128 , latent_dim=latent_size, device=device)\n",
        "train_vae_mlp(VAE, loader_train)"
      ],
      "metadata": {
        "id": "Ph7_ua333SFV",
        "colab": {
          "base_uri": "https://localhost:8080/"
        },
        "outputId": "79753170-3c04-4233-c472-e5f834e89f4d"
      },
      "execution_count": 15,
      "outputs": [
        {
          "output_type": "stream",
          "name": "stdout",
          "text": [
            "\n",
            "=============================================\n",
            "VAE- Epoch [1/20], Loss: 26081.395411825586\n",
            "\n",
            "=============================================\n",
            "VAE- Epoch [2/20], Loss: 19559.60255158253\n",
            "\n",
            "=============================================\n",
            "VAE- Epoch [3/20], Loss: 17169.570506560496\n",
            "\n",
            "=============================================\n",
            "VAE- Epoch [4/20], Loss: 16297.364345452725\n",
            "\n",
            "=============================================\n",
            "VAE- Epoch [5/20], Loss: 15786.85304821047\n",
            "\n",
            "=============================================\n",
            "VAE- Epoch [6/20], Loss: 15461.623255542201\n",
            "\n",
            "=============================================\n",
            "VAE- Epoch [7/20], Loss: 15233.365576589209\n",
            "\n",
            "=============================================\n",
            "VAE- Epoch [8/20], Loss: 15047.474285940838\n",
            "\n",
            "=============================================\n",
            "VAE- Epoch [9/20], Loss: 14883.457016643297\n",
            "\n",
            "=============================================\n",
            "VAE- Epoch [10/20], Loss: 14746.741469684828\n",
            "\n",
            "=============================================\n",
            "VAE- Epoch [11/20], Loss: 14648.172114967281\n",
            "\n",
            "=============================================\n",
            "VAE- Epoch [12/20], Loss: 14569.665552383814\n",
            "\n",
            "=============================================\n",
            "VAE- Epoch [13/20], Loss: 14492.627251519098\n",
            "\n",
            "=============================================\n",
            "VAE- Epoch [14/20], Loss: 14424.713019998664\n",
            "\n",
            "=============================================\n",
            "VAE- Epoch [15/20], Loss: 14373.192931607238\n",
            "\n",
            "=============================================\n",
            "VAE- Epoch [16/20], Loss: 14315.78088691907\n",
            "\n",
            "=============================================\n",
            "VAE- Epoch [17/20], Loss: 14272.786341479701\n",
            "\n",
            "=============================================\n",
            "VAE- Epoch [18/20], Loss: 14232.730429103232\n",
            "\n",
            "=============================================\n",
            "VAE- Epoch [19/20], Loss: 14193.54349876469\n",
            "\n",
            "=============================================\n",
            "VAE- Epoch [20/20], Loss: 14160.143815521502\n"
          ]
        }
      ]
    },
    {
      "cell_type": "markdown",
      "metadata": {
        "id": "JT6Ek-26jjJD"
      },
      "source": [
        "## Visualize results\n",
        "\n",
        "After training our VAE network, we're able to take advantage of its power to generate new training examples. This process simply involves the decoder: we intialize some random distribution for our latent spaces z, and generate new examples by passing these latent space into the decoder.\n",
        "\n",
        "Run the cell below to generate new images! You should be able to visually recognize many of the digits, although some may be a bit blurry or badly formed. Our next model will see improvement in these results."
      ]
    },
    {
      "cell_type": "code",
      "execution_count": 17,
      "metadata": {
        "id": "RhhrsgrMTyTi",
        "colab": {
          "base_uri": "https://localhost:8080/",
          "height": 139
        },
        "outputId": "f4209c49-e7e1-4c08-8d59-0c25a99a7196"
      },
      "outputs": [
        {
          "output_type": "display_data",
          "data": {
            "text/plain": [
              "<Figure size 1000x100 with 10 Axes>"
            ],
            "image/png": "[encoded data removed]"
          },
          "metadata": {}
        }
      ],
      "source": [
        "num_samples = 10\n",
        "z = torch.randn(num_samples, latent_size).to(device=device)\n",
        "\n",
        "VAE.eval()\n",
        "samples = VAE.decoder(z).data.cpu().numpy()\n",
        "\n",
        "fig = plt.figure(figsize=(num_samples, 1))\n",
        "gspec = gridspec.GridSpec(1, num_samples)\n",
        "gspec.update(wspace=0.05, hspace=0.05)\n",
        "for i, sample in enumerate(samples):\n",
        "    ax = plt.subplot(gspec[i])\n",
        "    plt.axis('off')\n",
        "    if i == 4:\n",
        "      plt.title('Generated Samples of VAE')\n",
        "    ax.set_xticklabels([])\n",
        "    ax.set_yticklabels([])\n",
        "    ax.set_aspect('equal')\n",
        "    plt.imshow(sample.reshape(28,28), cmap='Greys_r')"
      ]
    },
    {
      "cell_type": "markdown",
      "metadata": {
        "id": "wzS_ufzEkhah"
      },
      "source": [
        "# Conditional FC-VAE\n",
        "\n",
        "The second model you'll develop will be very similar to the FC-VAE, but with a slight conditional twist to it. We'll use what we know about the labels of each MNIST image, and *condition* our latent space and image generation on the specific class. Instead of $q_{\\phi} (z|x)$ and $p_{\\phi}(x|z)$ we have $q_{\\phi} (z|x,c)$  and $p_{\\phi}(x|z, c)$\n",
        "\n",
        "This will allow us to do some powerful conditional generation at inference time. We can specifically choose to generate more 1s, 2s, 9s, etc. instead of simply generating new digits randomly."
      ]
    },
    {
      "cell_type": "markdown",
      "metadata": {
        "id": "hle0JuhwklKc"
      },
      "source": [
        "## Define Network with class input\n",
        "\n",
        "Your CVAE architecture should be the same as your FC-VAE architecture, except you'll now concatenate a one-hot label vector to both the x input (in our case, the flattened image dimensions) and the z latent space.\n",
        "\n",
        "If the one-hot vector is called `c`, then `c[label] = 1` and `c = 0` elsewhere.\n",
        "\n",
        "For the `CVAE_MLP` class use the same FC-VAE architecture implemented in the last network.\n"
      ]
    },
    {
      "cell_type": "code",
      "source": [
        "# Define a simple CVAE class with MLP architecture\n",
        "\n",
        "class CVAE_MLP(nn.Module):\n",
        "    def __init__(self, input_dim, hidden_dim, latent_dim, num_classes, device):\n",
        "        super(CVAE_MLP, self).__init__()\n",
        "        # TODO: Define the architecture of the encoder\n",
        "        self.latent_size = latent_dim\n",
        "        self.embed_dim = 10\n",
        "        self.encoder = nn.Sequential(\n",
        "            # TODO: Add layers for the encoder\n",
        "            nn.Flatten(),\n",
        "            nn.Linear(input_dim + num_classes, hidden_dim),\n",
        "            nn.ReLU(),\n",
        "            nn.Linear(hidden_dim, hidden_dim // 2),\n",
        "            nn.ReLU(),\n",
        "        )\n",
        "        self.fc_mu = nn.Linear(hidden_dim // 2, self.latent_size)\n",
        "        self.fc_logvar = nn.Linear(hidden_dim // 2, self.latent_size)\n",
        "        self.fc_class = nn.Linear(self.latent_size, num_classes)\n",
        "\n",
        "        # TODO: Define the architecture of the decoder\n",
        "        self.decoder = nn.Sequential(\n",
        "            # TODO: Add layers for the decoder\n",
        "            nn.Linear(self.latent_size + num_classes, hidden_dim // 2),\n",
        "            nn.ReLU(),\n",
        "            nn.Linear(hidden_dim // 2, hidden_dim),\n",
        "            nn.ReLU(),\n",
        "            nn.Linear(hidden_dim, input_dim),\n",
        "            nn.Sigmoid()\n",
        "        )\n",
        "\n",
        "    def reparameterize(self, mu, logvar):\n",
        "        # TODO: Implement the reparameterization trick\n",
        "        std = torch.exp(0.5 * logvar)\n",
        "        eps = torch.randn_like(std)\n",
        "        z = mu + std * eps\n",
        "\n",
        "        return z\n",
        "\n",
        "    def forward(self, x, y):\n",
        "        x = x.view(x.size(0), -1)\n",
        "        y = y.view(y.size(0), -1)\n",
        "\n",
        "        # TODO: Concatenate x and y before passing them to the encoder\n",
        "        input = torch.cat((x, y), dim=1)\n",
        "\n",
        "        # TODO: Implement the forward pass\n",
        "        encoded = self.encoder(input)\n",
        "        mu = self.fc_mu(encoded)\n",
        "        logvar = self.fc_logvar(encoded)\n",
        "\n",
        "        z = self.reparameterize(mu, logvar)\n",
        "\n",
        "        reconstructed = self.decoder(torch.cat((z, y), dim=1))\n",
        "        reconstructed = torch.unflatten(reconstructed, dim=1, sizes=(28, 28))\n",
        "\n",
        "        predicted = self.fc_class(z)\n",
        "\n",
        "        return reconstructed, logvar, mu, predicted\n",
        "\n",
        "\n"
      ],
      "metadata": {
        "id": "iGox0wzC-NWJ"
      },
      "execution_count": 43,
      "outputs": []
    },
    {
      "cell_type": "markdown",
      "source": [
        "If you want to build helper functions, you can write the code in the below cell."
      ],
      "metadata": {
        "id": "FKw9Lidzwn55"
      }
    },
    {
      "cell_type": "code",
      "source": [],
      "metadata": {
        "id": "PHmq08N4w0Of"
      },
      "execution_count": null,
      "outputs": []
    },
    {
      "cell_type": "markdown",
      "source": [
        "# Loss Function"
      ],
      "metadata": {
        "id": "IQMuHF9Yw3ZY"
      }
    },
    {
      "cell_type": "markdown",
      "source": [
        "Complete the cvae_loss function below"
      ],
      "metadata": {
        "id": "yFIwbGnuw9qH"
      }
    },
    {
      "cell_type": "code",
      "source": [
        "# Define CVAE loss function\n",
        "def cvae_loss(recon, data, mu, logvar, class_logits, labels):\n",
        "    # TODO: Flatten the data tensor\n",
        "\n",
        "    # TODO: Implement the reconstruction loss\n",
        "    recon_loss = F.binary_cross_entropy(recon, data, reduction='sum')\n",
        "\n",
        "    # TODO: Implement the KL divergence loss\n",
        "    kl_loss = -0.5 * torch.sum(1 + logvar - mu.pow(2) - logvar.exp())\n",
        "\n",
        "    # TODO: Implement the cross-entropy loss for class prediction\n",
        "    prediction_loss = F.cross_entropy(class_logits, labels)\n",
        "\n",
        "\n",
        "    # TODO: Return the total loss as the sum of reconstruction, KL divergence, and cross-entropy losses\n",
        "    total_loss = recon_loss + kl_loss + prediction_loss\n",
        "\n",
        "\n",
        "\n",
        "    return total_loss\n"
      ],
      "metadata": {
        "id": "5V181vOVxEHf"
      },
      "execution_count": 40,
      "outputs": []
    },
    {
      "cell_type": "markdown",
      "metadata": {
        "id": "bUzKyFI9kp8i"
      },
      "source": [
        "## Train model\n",
        "\n",
        "Using the same training script, let's now train our CVAE!\n",
        "\n"
      ]
    },
    {
      "cell_type": "code",
      "execution_count": 50,
      "metadata": {
        "id": "N1dzKDUsunbD"
      },
      "outputs": [],
      "source": [
        "# Training Loop - CVAE (MLP)\n",
        "def train_cvae_mlp(model, train_loader, num_epochs=20, learning_rate=1e-3):\n",
        "    model.train()\n",
        "    num_classes = 10\n",
        "    optimizer = optim.Adam(model.parameters(), lr=learning_rate)\n",
        "    device = torch.device('cuda' if torch.cuda.is_available() else 'cpu')\n",
        "\n",
        "    for epoch in range(num_epochs):\n",
        "        print()\n",
        "        print(45 * \"=\")\n",
        "        total_loss = []\n",
        "        for batch_idx, (data, labels) in enumerate(train_loader):\n",
        "            # One-hot encode the labels\n",
        "            y = torch.nn.functional.one_hot(labels, num_classes).to(torch.float32)\n",
        "            # TODO: Forward pass through the model and calculate the loss using cvae_loss\n",
        "            recon, logvar, mu, predicted = model(data, y)\n",
        "            data = torch.flatten(data, 1)\n",
        "            recon = torch.flatten(recon, 1)\n",
        "\n",
        "\n",
        "            # TODO: Backpropagation and optimization step\n",
        "            optimizer.zero_grad()\n",
        "            loss = cvae_loss(recon, data, mu, logvar, predicted, labels)\n",
        "            loss.backward()\n",
        "            optimizer.step()\n",
        "            total_loss.append(loss.item())\n",
        "\n",
        "\n",
        "        avg_loss = float(sum(total_loss)/len(total_loss))\n",
        "        print(f'CVAE-MLP Epoch [{epoch+1}/{num_epochs}], Loss: {avg_loss}')"
      ]
    },
    {
      "cell_type": "code",
      "source": [
        "# TODO: Train CVAE\n",
        "latent_size = 10\n",
        "CVAE = CVAE_MLP(input_dim=784 , hidden_dim=128 , latent_dim=latent_size , num_classes=10, device=device)\n",
        "train_cvae_mlp(CVAE, loader_train)"
      ],
      "metadata": {
        "id": "JgrqOKl4x0eX",
        "colab": {
          "base_uri": "https://localhost:8080/"
        },
        "outputId": "141f80a5-0ce7-4113-f59e-c9f7c1e2a09b"
      },
      "execution_count": 51,
      "outputs": [
        {
          "output_type": "stream",
          "name": "stdout",
          "text": [
            "\n",
            "=============================================\n",
            "CVAE-MLP Epoch [1/20], Loss: 25128.387641059027\n",
            "\n",
            "=============================================\n",
            "CVAE-MLP Epoch [2/20], Loss: 18403.881771250668\n",
            "\n",
            "=============================================\n",
            "CVAE-MLP Epoch [3/20], Loss: 16774.022116636617\n",
            "\n",
            "=============================================\n",
            "CVAE-MLP Epoch [4/20], Loss: 15898.058140942174\n",
            "\n",
            "=============================================\n",
            "CVAE-MLP Epoch [5/20], Loss: 15382.318870609643\n",
            "\n",
            "=============================================\n",
            "CVAE-MLP Epoch [6/20], Loss: 15024.364938067574\n",
            "\n",
            "=============================================\n",
            "CVAE-MLP Epoch [7/20], Loss: 14744.349774222088\n",
            "\n",
            "=============================================\n",
            "CVAE-MLP Epoch [8/20], Loss: 14546.30065604968\n",
            "\n",
            "=============================================\n",
            "CVAE-MLP Epoch [9/20], Loss: 14391.601643880209\n",
            "\n",
            "=============================================\n",
            "CVAE-MLP Epoch [10/20], Loss: 14269.21065579928\n",
            "\n",
            "=============================================\n",
            "CVAE-MLP Epoch [11/20], Loss: 14159.48284755609\n",
            "\n",
            "=============================================\n",
            "CVAE-MLP Epoch [12/20], Loss: 14064.844236194578\n",
            "\n",
            "=============================================\n",
            "CVAE-MLP Epoch [13/20], Loss: 13984.814574151977\n",
            "\n",
            "=============================================\n",
            "CVAE-MLP Epoch [14/20], Loss: 13909.372594067174\n",
            "\n",
            "=============================================\n",
            "CVAE-MLP Epoch [15/20], Loss: 13843.592164129273\n",
            "\n",
            "=============================================\n",
            "CVAE-MLP Epoch [16/20], Loss: 13786.579064002404\n",
            "\n",
            "=============================================\n",
            "CVAE-MLP Epoch [17/20], Loss: 13735.577847472623\n",
            "\n",
            "=============================================\n",
            "CVAE-MLP Epoch [18/20], Loss: 13685.356672759748\n",
            "\n",
            "=============================================\n",
            "CVAE-MLP Epoch [19/20], Loss: 13642.646778595754\n",
            "\n",
            "=============================================\n",
            "CVAE-MLP Epoch [20/20], Loss: 13596.37720352564\n"
          ]
        }
      ]
    },
    {
      "cell_type": "markdown",
      "metadata": {
        "id": "GMAyFBZTkr1Y"
      },
      "source": [
        "## Visualize Results\n",
        "\n",
        "You've trained your CVAE, now let's conditionally generate some new data! This time, we can specify the class we want to generate by adding our one hot matrix of class labels. We use `torch.eye` to create an identity matrix, which effectively gives us one label for each digit. When you run the cell below, you should get one example per digit. Each digit should be reasonably distinguishable (it is ok to run this cell a few times to save your best results).\n",
        "\n"
      ]
    },
    {
      "cell_type": "code",
      "execution_count": 57,
      "metadata": {
        "id": "GCfwpz0NALdZ",
        "colab": {
          "base_uri": "https://localhost:8080/",
          "height": 139
        },
        "outputId": "691d627f-4dc1-43ac-ef4f-5d47a13fa109"
      },
      "outputs": [
        {
          "output_type": "display_data",
          "data": {
            "text/plain": [
              "<Figure size 1000x100 with 10 Axes>"
            ],
            "image/png": "[encoded data removed]"
          },
          "metadata": {}
        }
      ],
      "source": [
        "num_samples = 10\n",
        "z = torch.randn(num_samples, latent_size)\n",
        "\n",
        "c = torch.eye(num_samples, 10)\n",
        "\n",
        "z = torch.cat((z,c), dim=-1).to(device='cpu')\n",
        "CVAE.eval()\n",
        "samples = CVAE.decoder(z).data.cpu().numpy()\n",
        "\n",
        "fig = plt.figure(figsize=(num_samples, 1))\n",
        "gspec = gridspec.GridSpec(1, num_samples)\n",
        "gspec.update(wspace=0.05, hspace=0.05)\n",
        "for i, sample in enumerate(samples):\n",
        "    ax = plt.subplot(gspec[i])\n",
        "    if i == 4:\n",
        "      plt.title('Generated Samples of CVAE')\n",
        "    plt.axis('off')\n",
        "    ax.set_xticklabels([])\n",
        "    ax.set_yticklabels([])\n",
        "    ax.set_aspect('equal')\n",
        "    plt.imshow(sample.reshape(28, 28), cmap='Greys_r')"
      ]
    }
  ],
  "metadata": {
    "colab": {
      "provenance": [],
      "toc_visible": true,
      "include_colab_link": true
    },
    "kernelspec": {
      "display_name": "Python 3",
      "name": "python3"
    },
    "language_info": {
      "codemirror_mode": {
        "name": "ipython",
        "version": 3
      },
      "file_extension": ".py",
      "mimetype": "text/x-python",
      "name": "python",
      "nbconvert_exporter": "python",
      "pygments_lexer": "ipython3",
      "version": "3.9.9"
    }
  },
  "nbformat": 4,
  "nbformat_minor": 0
}