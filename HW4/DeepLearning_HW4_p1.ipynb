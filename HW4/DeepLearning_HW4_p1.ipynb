{
  "cells": [
    {
      "cell_type": "markdown",
      "metadata": {
        "id": "sp7D0ktn5eiG"
      },
      "source": [
        "\n",
        "<br>\n",
        "<font>\n",
        "<div dir=ltr align=center>\n",
        "<font color=0F5298 size=10>\n",
        "    Deep Learning - HW4 <br>\n",
        "<font color=2565AE size=5>\n",
        "    Electrical Engineering Department <br>\n",
        "    winter 2024<br>\n",
        "<font color=3C99D size=5>\n",
        "    Practical Assignment 1 <br>\n",
        "<font color=696880 size=4>\n",
        "    Niloufar Abbasi\n",
        "\n",
        "____"
      ]
    },
    {
      "cell_type": "markdown",
      "metadata": {
        "id": "CIGl7sBJAuOF"
      },
      "source": [
        "# Emotion Recognition with Recurrent Neural Networks\n"
      ]
    },
    {
      "cell_type": "markdown",
      "metadata": {
        "id": "kfgvoU1WAuOG"
      },
      "source": [
        "---\n",
        "\n",
        "## **Introduction**\n",
        "\n",
        "In this task, you will implement a Recurrent Neural Network (RNN) to perform tweet emotion recognition. The goal is to classify tweets into one of six basic emotions:\n",
        "- **0: sadness**\n",
        "- **1: joy**\n",
        "- **2: love**\n",
        "- **3: anger**\n",
        "- **4: fear**\n",
        "- **5: surprise**\n",
        "\n",
        "We will be using a dataset of tweets, where each tweet has been labeled with one of these emotions. Throughout this notebook, you will follow step-by-step instructions to build and train your model. As you progress, you'll complete the provided TODO sections by filling in the necessary code and functions.\n",
        "\n",
        "By the end of this exercise, you will:\n",
        "- Understand how to preprocess text data for use in RNN models.\n",
        "- Build and train a model using Pytorch.\n",
        "- Evaluate the performance of your model on the test set.\n",
        "\n",
        "---\n"
      ]
    },
    {
      "cell_type": "markdown",
      "metadata": {
        "id": "E0zLnLQEAuOG"
      },
      "source": [
        "---\n",
        "\n",
        "## Task 1: Enter Your Information\n",
        "\n",
        "Before we begin, please enter your **student ID** and **name** in the code section below.\n",
        "\n",
        "Make sure to replace the placeholders with your actual information.\n",
        "\n",
        "---"
      ]
    },
    {
      "cell_type": "code",
      "execution_count": null,
      "metadata": {
        "colab": {
          "base_uri": "https://localhost:8080/"
        },
        "id": "rZ-6v5NMAuOH",
        "outputId": "56754c50-257d-47b6-db59-da331410f292"
      },
      "outputs": [
        {
          "output_type": "stream",
          "name": "stdout",
          "text": [
            "Your name: Armin Navardi\n",
            "Your student ID: 99105129\n"
          ]
        }
      ],
      "source": [
        "#########################################\n",
        "# TODO: Enter your personal information #\n",
        "#########################################\n",
        "\n",
        "student_name = \"Armin Navardi\"  # Replace with your name\n",
        "student_id   = 99105129  # Replace with your student ID\n",
        "\n",
        "print(\"Your name:\", student_name)\n",
        "print(\"Your student ID:\", student_id)"
      ]
    },
    {
      "cell_type": "markdown",
      "metadata": {
        "id": "jsd3plaZAuOH"
      },
      "source": [
        "---\n",
        "\n",
        "## Task 2: Setup and Imports\n",
        "\n",
        "In this task, we'll be preparing our environment by importing the necessary libraries. Please run the cells below to set everything up. If any library is missing on your end, make sure to install it.\n",
        "\n",
        "### Instructions:\n",
        "1. **Run the cells** to install any required packages and import the necessary libraries.\n",
        "2. If any library is not installed in your environment, use `!pip install <library_name>` to install it.\n",
        "---"
      ]
    },
    {
      "cell_type": "code",
      "execution_count": 1,
      "metadata": {
        "colab": {
          "base_uri": "https://localhost:8080/"
        },
        "id": "6LGMBFYVAuOH",
        "outputId": "c69ff659-9a89-41e8-86fe-a1e885d5926a"
      },
      "outputs": [
        {
          "output_type": "stream",
          "name": "stdout",
          "text": [
            "Collecting datasets\n",
            "  Downloading datasets-3.2.0-py3-none-any.whl.metadata (20 kB)\n",
            "Requirement already satisfied: filelock in /usr/local/lib/python3.10/dist-packages (from datasets) (3.16.1)\n",
            "Requirement already satisfied: numpy>=1.17 in /usr/local/lib/python3.10/dist-packages (from datasets) (1.26.4)\n",
            "Requirement already satisfied: pyarrow>=15.0.0 in /usr/local/lib/python3.10/dist-packages (from datasets) (17.0.0)\n",
            "Collecting dill<0.3.9,>=0.3.0 (from datasets)\n",
            "  Downloading dill-0.3.8-py3-none-any.whl.metadata (10 kB)\n",
            "Requirement already satisfied: pandas in /usr/local/lib/python3.10/dist-packages (from datasets) (2.2.2)\n",
            "Requirement already satisfied: requests>=2.32.2 in /usr/local/lib/python3.10/dist-packages (from datasets) (2.32.3)\n",
            "Requirement already satisfied: tqdm>=4.66.3 in /usr/local/lib/python3.10/dist-packages (from datasets) (4.67.1)\n",
            "Collecting xxhash (from datasets)\n",
            "  Downloading xxhash-3.5.0-cp310-cp310-manylinux_2_17_x86_64.manylinux2014_x86_64.whl.metadata (12 kB)\n",
            "Collecting multiprocess<0.70.17 (from datasets)\n",
            "  Downloading multiprocess-0.70.16-py310-none-any.whl.metadata (7.2 kB)\n",
            "Collecting fsspec<=2024.9.0,>=2023.1.0 (from fsspec[http]<=2024.9.0,>=2023.1.0->datasets)\n",
            "  Downloading fsspec-2024.9.0-py3-none-any.whl.metadata (11 kB)\n",
            "Requirement already satisfied: aiohttp in /usr/local/lib/python3.10/dist-packages (from datasets) (3.11.10)\n",
            "Requirement already satisfied: huggingface-hub>=0.23.0 in /usr/local/lib/python3.10/dist-packages (from datasets) (0.27.0)\n",
            "Requirement already satisfied: packaging in /usr/local/lib/python3.10/dist-packages (from datasets) (24.2)\n",
            "Requirement already satisfied: pyyaml>=5.1 in /usr/local/lib/python3.10/dist-packages (from datasets) (6.0.2)\n",
            "Requirement already satisfied: aiohappyeyeballs>=2.3.0 in /usr/local/lib/python3.10/dist-packages (from aiohttp->datasets) (2.4.4)\n",
            "Requirement already satisfied: aiosignal>=1.1.2 in /usr/local/lib/python3.10/dist-packages (from aiohttp->datasets) (1.3.2)\n",
            "Requirement already satisfied: async-timeout<6.0,>=4.0 in /usr/local/lib/python3.10/dist-packages (from aiohttp->datasets) (4.0.3)\n",
            "Requirement already satisfied: attrs>=17.3.0 in /usr/local/lib/python3.10/dist-packages (from aiohttp->datasets) (24.3.0)\n",
            "Requirement already satisfied: frozenlist>=1.1.1 in /usr/local/lib/python3.10/dist-packages (from aiohttp->datasets) (1.5.0)\n",
            "Requirement already satisfied: multidict<7.0,>=4.5 in /usr/local/lib/python3.10/dist-packages (from aiohttp->datasets) (6.1.0)\n",
            "Requirement already satisfied: propcache>=0.2.0 in /usr/local/lib/python3.10/dist-packages (from aiohttp->datasets) (0.2.1)\n",
            "Requirement already satisfied: yarl<2.0,>=1.17.0 in /usr/local/lib/python3.10/dist-packages (from aiohttp->datasets) (1.18.3)\n",
            "Requirement already satisfied: typing-extensions>=3.7.4.3 in /usr/local/lib/python3.10/dist-packages (from huggingface-hub>=0.23.0->datasets) (4.12.2)\n",
            "Requirement already satisfied: charset-normalizer<4,>=2 in /usr/local/lib/python3.10/dist-packages (from requests>=2.32.2->datasets) (3.4.0)\n",
            "Requirement already satisfied: idna<4,>=2.5 in /usr/local/lib/python3.10/dist-packages (from requests>=2.32.2->datasets) (3.10)\n",
            "Requirement already satisfied: urllib3<3,>=1.21.1 in /usr/local/lib/python3.10/dist-packages (from requests>=2.32.2->datasets) (2.2.3)\n",
            "Requirement already satisfied: certifi>=2017.4.17 in /usr/local/lib/python3.10/dist-packages (from requests>=2.32.2->datasets) (2024.12.14)\n",
            "Requirement already satisfied: python-dateutil>=2.8.2 in /usr/local/lib/python3.10/dist-packages (from pandas->datasets) (2.8.2)\n",
            "Requirement already satisfied: pytz>=2020.1 in /usr/local/lib/python3.10/dist-packages (from pandas->datasets) (2024.2)\n",
            "Requirement already satisfied: tzdata>=2022.7 in /usr/local/lib/python3.10/dist-packages (from pandas->datasets) (2024.2)\n",
            "Requirement already satisfied: six>=1.5 in /usr/local/lib/python3.10/dist-packages (from python-dateutil>=2.8.2->pandas->datasets) (1.17.0)\n",
            "Downloading datasets-3.2.0-py3-none-any.whl (480 kB)\n",
            "\u001b[2K   \u001b[90m━━━━━━━━━━━━━━━━━━━━━━━━━━━━━━━━━━━━━━━━\u001b[0m \u001b[32m480.6/480.6 kB\u001b[0m \u001b[31m2.0 MB/s\u001b[0m eta \u001b[36m0:00:00\u001b[0m\n",
            "\u001b[?25hDownloading dill-0.3.8-py3-none-any.whl (116 kB)\n",
            "\u001b[2K   \u001b[90m━━━━━━━━━━━━━━━━━━━━━━━━━━━━━━━━━━━━━━━━\u001b[0m \u001b[32m116.3/116.3 kB\u001b[0m \u001b[31m10.1 MB/s\u001b[0m eta \u001b[36m0:00:00\u001b[0m\n",
            "\u001b[?25hDownloading fsspec-2024.9.0-py3-none-any.whl (179 kB)\n",
            "\u001b[2K   \u001b[90m━━━━━━━━━━━━━━━━━━━━━━━━━━━━━━━━━━━━━━━━\u001b[0m \u001b[32m179.3/179.3 kB\u001b[0m \u001b[31m15.8 MB/s\u001b[0m eta \u001b[36m0:00:00\u001b[0m\n",
            "\u001b[?25hDownloading multiprocess-0.70.16-py310-none-any.whl (134 kB)\n",
            "\u001b[2K   \u001b[90m━━━━━━━━━━━━━━━━━━━━━━━━━━━━━━━━━━━━━━━━\u001b[0m \u001b[32m134.8/134.8 kB\u001b[0m \u001b[31m11.8 MB/s\u001b[0m eta \u001b[36m0:00:00\u001b[0m\n",
            "\u001b[?25hDownloading xxhash-3.5.0-cp310-cp310-manylinux_2_17_x86_64.manylinux2014_x86_64.whl (194 kB)\n",
            "\u001b[2K   \u001b[90m━━━━━━━━━━━━━━━━━━━━━━━━━━━━━━━━━━━━━━━━\u001b[0m \u001b[32m194.1/194.1 kB\u001b[0m \u001b[31m15.4 MB/s\u001b[0m eta \u001b[36m0:00:00\u001b[0m\n",
            "\u001b[?25hInstalling collected packages: xxhash, fsspec, dill, multiprocess, datasets\n",
            "  Attempting uninstall: fsspec\n",
            "    Found existing installation: fsspec 2024.10.0\n",
            "    Uninstalling fsspec-2024.10.0:\n",
            "      Successfully uninstalled fsspec-2024.10.0\n",
            "\u001b[31mERROR: pip's dependency resolver does not currently take into account all the packages that are installed. This behaviour is the source of the following dependency conflicts.\n",
            "gcsfs 2024.10.0 requires fsspec==2024.10.0, but you have fsspec 2024.9.0 which is incompatible.\u001b[0m\u001b[31m\n",
            "\u001b[0mSuccessfully installed datasets-3.2.0 dill-0.3.8 fsspec-2024.9.0 multiprocess-0.70.16 xxhash-3.5.0\n"
          ]
        }
      ],
      "source": [
        "!pip install datasets"
      ]
    },
    {
      "cell_type": "markdown",
      "metadata": {
        "id": "dhaMB6QrAuOH"
      },
      "source": [
        "Required Libraries:"
      ]
    },
    {
      "cell_type": "code",
      "execution_count": 1,
      "metadata": {
        "id": "Otbb8bbBAuOI"
      },
      "outputs": [],
      "source": [
        "import torch\n",
        "import numpy as np\n",
        "import matplotlib.pyplot as plt\n",
        "from sklearn.metrics import confusion_matrix\n",
        "from datasets import load_dataset\n",
        "\n",
        "%matplotlib inline\n",
        "\n",
        "#####################################################################\n",
        "# TODO: Add any additional libraries you may need for your analysis #\n",
        "#####################################################################\n",
        "\n",
        "# You can add your libraries here"
      ]
    },
    {
      "cell_type": "markdown",
      "metadata": {
        "id": "wzO7DTDTAuOI"
      },
      "source": [
        "### Additional Functions\n",
        "\n",
        "The following functions have been provided to help you visualize the results of your model training. These will allow you to analyze both the model's performance over time (through the training history) and how well it performs on individual predictions (through a confusion matrix).\n",
        "\n",
        "1. **`plot_history(hist)`**: This function takes the training history object (`hist`) from your model and plots both the accuracy and loss over the number of epochs for both training and validation sets. It provides an easy way to visually track the model's learning progress and performance.\n",
        "\n",
        "2. **`visualize_confusion_matrix(actual_labels, predicted_labels, classes)`**: After making predictions with your model, you can use this function to plot a confusion matrix. It shows the accuracy of your model across each class, helping to identify areas where the model is performing well and where it might be struggling. The matrix is normalized to make comparisons easier.\n",
        "\n",
        "These functions are for your convenience, you can directly use them after running your model to visualize the results.\n"
      ]
    },
    {
      "cell_type": "code",
      "execution_count": 2,
      "metadata": {
        "id": "tyWiDrwsAuOI"
      },
      "outputs": [],
      "source": [
        "# Functions to visualize training history and confusion matrix\n",
        "def plot_history(hist):\n",
        "    epochs = len(hist.history['loss'])\n",
        "    plt.figure(figsize=(16, 6))\n",
        "\n",
        "    plt.subplot(1, 2, 1)\n",
        "    plt.plot(range(0, epochs), hist.history.get('accuracy'), label='Training')\n",
        "    plt.plot(range(0, epochs), hist.history.get('val_accuracy'), label='Validation')\n",
        "    plt.ylim([0., 1.])\n",
        "    plt.xlabel('Epochs')\n",
        "    plt.ylabel('Accuracy')\n",
        "    plt.legend()\n",
        "\n",
        "    plt.subplot(1, 2, 2)\n",
        "    plt.plot(range(0, epochs), hist.history.get('loss'), label='Training')\n",
        "    plt.plot(range(0, epochs), hist.history.get('val_loss'), label='Validation')\n",
        "    plt.xlabel('Epochs')\n",
        "    plt.ylabel('Loss')\n",
        "    plt.legend()\n",
        "    plt.show()\n",
        "\n",
        "def visualize_confusion_matrix(actual_labels, predicted_labels, classes):\n",
        "\n",
        "    cm = confusion_matrix(actual_labels, predicted_labels, normalize='true')\n",
        "\n",
        "    plt.figure(figsize=(8, 8))\n",
        "    sp = plt.subplot(1, 1, 1)\n",
        "    ctx = sp.matshow(cm)\n",
        "    plt.xticks(list(range(0, 6)), labels=classes)\n",
        "    plt.yticks(list(range(0, 6)), labels=classes)\n",
        "    plt.colorbar(ctx)\n",
        "    plt.show()\n"
      ]
    },
    {
      "cell_type": "markdown",
      "metadata": {
        "id": "cyRtc5R5AuOI"
      },
      "source": [
        "---\n",
        "\n",
        "## Task 3: Importing Data\n",
        "\n",
        "In this task, we will\n",
        "\n",
        "- import the Tweet Emotion dataset\n",
        "\n",
        "- create training, validation, and test sets\n",
        "    \n",
        "- extract the tweets and their corresponding labels for further analysis\n",
        "\n",
        "---"
      ]
    },
    {
      "cell_type": "code",
      "execution_count": 3,
      "metadata": {
        "id": "0YHOvjAu5eiL",
        "colab": {
          "base_uri": "https://localhost:8080/"
        },
        "outputId": "665a5d9a-3dfd-439c-bf7b-1ee4cf5719aa"
      },
      "outputs": [
        {
          "output_type": "stream",
          "name": "stderr",
          "text": [
            "/usr/local/lib/python3.10/dist-packages/huggingface_hub/utils/_auth.py:94: UserWarning: \n",
            "The secret `HF_TOKEN` does not exist in your Colab secrets.\n",
            "To authenticate with the Hugging Face Hub, create a token in your settings tab (https://huggingface.co/settings/tokens), set it as secret in your Google Colab and restart your session.\n",
            "You will be able to reuse this secret in all of your notebooks.\n",
            "Please note that authentication is recommended but still optional to access public models or datasets.\n",
            "  warnings.warn(\n"
          ]
        },
        {
          "output_type": "execute_result",
          "data": {
            "text/plain": [
              "DatasetDict({\n",
              "    train: Dataset({\n",
              "        features: ['text', 'label'],\n",
              "        num_rows: 16000\n",
              "    })\n",
              "    validation: Dataset({\n",
              "        features: ['text', 'label'],\n",
              "        num_rows: 2000\n",
              "    })\n",
              "    test: Dataset({\n",
              "        features: ['text', 'label'],\n",
              "        num_rows: 2000\n",
              "    })\n",
              "})"
            ]
          },
          "metadata": {},
          "execution_count": 3
        }
      ],
      "source": [
        "dataset = load_dataset('emotion')\n",
        "dataset"
      ]
    },
    {
      "cell_type": "code",
      "execution_count": 4,
      "metadata": {
        "id": "2s0h541FxIgc",
        "colab": {
          "base_uri": "https://localhost:8080/"
        },
        "outputId": "546f2491-b0c8-4a76-8777-2155b49c96c7"
      },
      "outputs": [
        {
          "output_type": "stream",
          "name": "stdout",
          "text": [
            "{'text': ['i didnt feel humiliated', 'i can go from feeling so hopeless to so damned hopeful just from being around someone who cares and is awake', 'im grabbing a minute to post i feel greedy wrong', 'i am ever feeling nostalgic about the fireplace i will know that it is still on the property', 'i am feeling grouchy'], 'label': [0, 0, 3, 2, 3]}\n"
          ]
        }
      ],
      "source": [
        "# Display the first few samples\n",
        "print(dataset['train'][0:5])  # Adjust 'train' to 'test' or other splits if necessary"
      ]
    },
    {
      "cell_type": "code",
      "execution_count": 5,
      "metadata": {
        "id": "z7eCnxU25eiN"
      },
      "outputs": [],
      "source": [
        "###########################################################################\n",
        "# TODO: Create variables for the training, validation, and test datasets. #\n",
        "###########################################################################\n",
        "\n",
        "training = dataset['train']\n",
        "validation = dataset['validation']\n",
        "test = dataset['test']"
      ]
    },
    {
      "cell_type": "code",
      "execution_count": 6,
      "metadata": {
        "id": "oDYXMfZy5eiP",
        "colab": {
          "base_uri": "https://localhost:8080/"
        },
        "outputId": "4ae42938-65f7-4cd0-dfb3-9cdf5313c16f"
      },
      "outputs": [
        {
          "output_type": "stream",
          "name": "stdout",
          "text": [
            "i didnt feel humiliated 0\n"
          ]
        }
      ],
      "source": [
        "########################################################################################################\n",
        "# TODO:                                                                                                #\n",
        "# Implement the `extract_tweets_labels` function to iterate over the provided dataset.                 #\n",
        "# Within this function, extract the tweet text and their corresponding labels into two separate lists. #\n",
        "# Then, call this function with the training dataset to obtain the tweets and labels,                  #\n",
        "# ensuring proper data handling for subsequent analysis.                                               #\n",
        "########################################################################################################\n",
        "\n",
        "def extract_tweets_labels(data):\n",
        "    # Extract the text and labels from the data\n",
        "    tweets = []\n",
        "    labels = []\n",
        "\n",
        "    for data_point in data:\n",
        "        tweets.append(data_point['text'])\n",
        "        labels.append(data_point['label'])\n",
        "\n",
        "    return tweets, labels\n",
        "\n",
        "# Get the tweets and labels from the training set\n",
        "tweets, labels = extract_tweets_labels(training)\n",
        "tweets_val, labels_val = extract_tweets_labels(validation)\n",
        "tweets_test, labels_test = extract_tweets_labels(test)\n",
        "\n",
        "# Display the first tweet and its label\n",
        "print(tweets[0], labels[0])\n"
      ]
    },
    {
      "cell_type": "markdown",
      "metadata": {
        "id": "bWVEvwE1AuOJ"
      },
      "source": [
        "---\n",
        "\n",
        "## Task 4: Tokenization of Tweets\n",
        "\n",
        "In this section, we will focus on the tokenization of the tweets in the dataset. Tokenization is a crucial step in natural language processing (NLP) that involves breaking down text into smaller units, such as words or subwords. This process enables the model to better understand and analyze the text data.\n",
        "\n",
        "### Objectives:\n",
        "1. Implement a tokenizer to convert the tweet texts into tokens.\n",
        "2. Ensure the tokenization process handles various aspects of the text, such as punctuation and special characters.\n",
        "\n",
        "By the end of this task, you will have a set of tokenized tweets ready for further processing in your NLP pipeline.\n",
        "\n",
        "---"
      ]
    },
    {
      "cell_type": "code",
      "execution_count": 7,
      "metadata": {
        "id": "qfX5-ResxIgq",
        "colab": {
          "base_uri": "https://localhost:8080/"
        },
        "outputId": "e12af8d2-2c16-4765-df54-158dc4b82d5c"
      },
      "outputs": [
        {
          "output_type": "stream",
          "name": "stdout",
          "text": [
            "Original Tweet: @user Check out https://example.com :-) <> () {} [] :-p 😃 #awesome #NLTK\n",
            "Tokenized Tweet: ['check', 'out', 'https://example.com', ':-)', '<', '>', '(', ')', '{', '}', '[', ']', ':-p', '😃', '#awesome', '#nltk']\n"
          ]
        }
      ],
      "source": [
        "###############################################################################################################################################\n",
        "# TODO: Tokenization of Tweets                                                                                                                #\n",
        "# 1. Select a Tokenization Method: Choose a suitable tokenization method to preprocess the tweets.                                            #\n",
        "# Ensure that the tokenization handles special characters and maintains the integrity of the text data.                                       #\n",
        "# 2. Implement the Tokenizer: Once you have selected a method, implement the tokenizer to convert the tweet texts into sequences of tokens.   #\n",
        "# 3. Test the Tokenization:                                                                                                                   #\n",
        "# Verify the functionality of your tokenizer by applying it to a sample tweet from the dataset and displaying the resulting tokenized output. #\n",
        "###############################################################################################################################################\n",
        "\n",
        "from nltk.tokenize import TweetTokenizer\n",
        "\n",
        "# Tokenizer for tweeets\n",
        "tokenizer = TweetTokenizer(preserve_case=False, reduce_len=True, strip_handles=True)\n",
        "\n",
        "sample_tweet = \"@user Check out https://example.com :-) <> () {} [] :-p 😃 #awesome #NLTK\"\n",
        "tokenized_tweet = tokenizer.tokenize(sample_tweet)\n",
        "\n",
        "print(\"Original Tweet:\", sample_tweet)\n",
        "print(\"Tokenized Tweet:\", tokenized_tweet)\n"
      ]
    },
    {
      "cell_type": "markdown",
      "metadata": {
        "id": "KRkzPSw6AuOJ"
      },
      "source": [
        "---\n",
        "\n",
        "## Task 5: Padding and Truncating Sequences\n",
        "\n",
        "In this task, we will prepare the tokenized tweets for model training by checking their lengths and creating padded sequences.\n",
        "\n",
        "1. **Checking the Length of the Tweets**\n",
        "   - Analyze the distribution of tweet lengths to understand the range of token counts in the dataset.\n",
        "\n",
        "2. **Creating Padded Sequences**\n",
        "   - After tokenizing the tweets, sequences of different lengths must be adjusted to a uniform length to facilitate training.\n",
        "\n",
        "---\n"
      ]
    },
    {
      "cell_type": "code",
      "execution_count": 8,
      "metadata": {
        "colab": {
          "base_uri": "https://localhost:8080/",
          "height": 581
        },
        "id": "EvXLQjkuAuOJ",
        "outputId": "b350b1d9-c93a-4362-8129-7c0a499fb7d6"
      },
      "outputs": [
        {
          "output_type": "display_data",
          "data": {
            "text/plain": [
              "<Figure size 1000x600 with 1 Axes>"
            ],
            "image/png": "[encoded data removed]"
          },
          "metadata": {}
        },
        {
          "output_type": "stream",
          "name": "stdout",
          "text": [
            "Maximum length: 207\n"
          ]
        }
      ],
      "source": [
        "#####################################################################################################################################################\n",
        "# TODO:                                                                                                                                             #\n",
        "# Implement code to calculate the lengths of the tweets and visualize the distribution using a histogram. Use an appropriate visualization library. #\n",
        "# After visualizing the distribution, determine a suitable maximum length for padding and truncating the sequences based on your findings.          #\n",
        "#####################################################################################################################################################\n",
        "\n",
        "import numpy as np\n",
        "import matplotlib.pyplot as plt\n",
        "import seaborn as sns\n",
        "\n",
        "# Calculate tweet lengths\n",
        "tweet_lengths = [len(tweet) for tweet in tweets]\n",
        "\n",
        "# Visualize the distribution of tweet lengths\n",
        "plt.figure(figsize=(10, 6))\n",
        "sns.histplot(tweet_lengths, bins=10, kde=True)\n",
        "plt.title('Distribution of Tweet Lengths')\n",
        "plt.xlabel('Tweet Length')\n",
        "plt.ylabel('Count')\n",
        "plt.show()\n",
        "\n",
        "# Choose a max length based on distribution\n",
        "max_length = int(np.percentile(np.array(tweet_lengths), 95))\n",
        "print(f\"Maximum length: {max_length}\")\n"
      ]
    },
    {
      "cell_type": "code",
      "execution_count": 9,
      "metadata": {
        "colab": {
          "base_uri": "https://localhost:8080/"
        },
        "id": "vJQHkI2UAuOK",
        "outputId": "887e395e-0c1b-4c8b-d415-e78b487ba53c"
      },
      "outputs": [
        {
          "output_type": "stream",
          "name": "stdout",
          "text": [
            "4\n",
            "15\n",
            "11\n"
          ]
        },
        {
          "output_type": "execute_result",
          "data": {
            "text/plain": [
              "['<s>',\n",
              " '<s>',\n",
              " '<s>',\n",
              " '<s>',\n",
              " '<s>',\n",
              " '<s>',\n",
              " '<s>',\n",
              " '<s>',\n",
              " '<s>',\n",
              " '<s>',\n",
              " '<s>',\n",
              " '<s>',\n",
              " '<s>',\n",
              " '<s>',\n",
              " '<s>',\n",
              " '<s>',\n",
              " '<s>',\n",
              " '<s>',\n",
              " '<s>',\n",
              " '<s>',\n",
              " '<s>',\n",
              " '<s>',\n",
              " '<s>',\n",
              " '<s>',\n",
              " '<s>',\n",
              " '<s>',\n",
              " '<s>',\n",
              " '<s>',\n",
              " '<s>',\n",
              " '<s>',\n",
              " '<s>',\n",
              " '<s>',\n",
              " '<s>',\n",
              " '<s>',\n",
              " '<s>',\n",
              " '<s>',\n",
              " '<s>',\n",
              " '<s>',\n",
              " '<s>',\n",
              " '<s>',\n",
              " '<s>',\n",
              " '<s>',\n",
              " '<s>',\n",
              " '<s>',\n",
              " '<s>',\n",
              " '<s>',\n",
              " '<s>',\n",
              " '<s>',\n",
              " '<s>',\n",
              " '<s>',\n",
              " '<s>',\n",
              " '<s>',\n",
              " '<s>',\n",
              " '<s>',\n",
              " '<s>',\n",
              " '<s>',\n",
              " '<s>',\n",
              " '<s>',\n",
              " '<s>',\n",
              " '<s>',\n",
              " '<s>',\n",
              " '<s>',\n",
              " '<s>',\n",
              " '<s>',\n",
              " '<s>',\n",
              " '<s>',\n",
              " '<s>',\n",
              " '<s>',\n",
              " '<s>',\n",
              " '<s>',\n",
              " '<s>',\n",
              " '<s>',\n",
              " '<s>',\n",
              " '<s>',\n",
              " '<s>',\n",
              " '<s>',\n",
              " '<s>',\n",
              " '<s>',\n",
              " '<s>',\n",
              " '<s>',\n",
              " '<s>',\n",
              " '<s>',\n",
              " '<s>',\n",
              " '<s>',\n",
              " '<s>',\n",
              " '<s>',\n",
              " '<s>',\n",
              " '<s>',\n",
              " '<s>',\n",
              " '<s>',\n",
              " '<s>',\n",
              " '<s>',\n",
              " '<s>',\n",
              " '<s>',\n",
              " '<s>',\n",
              " '<s>',\n",
              " '<s>',\n",
              " '<s>',\n",
              " '<s>',\n",
              " '<s>',\n",
              " '<s>',\n",
              " '<s>',\n",
              " '<s>',\n",
              " '<s>',\n",
              " '<s>',\n",
              " '<s>',\n",
              " '<s>',\n",
              " '<s>',\n",
              " '<s>',\n",
              " '<s>',\n",
              " '<s>',\n",
              " '<s>',\n",
              " '<s>',\n",
              " '<s>',\n",
              " '<s>',\n",
              " '<s>',\n",
              " '<s>',\n",
              " '<s>',\n",
              " '<s>',\n",
              " '<s>',\n",
              " '<s>',\n",
              " '<s>',\n",
              " '<s>',\n",
              " '<s>',\n",
              " '<s>',\n",
              " '<s>',\n",
              " '<s>',\n",
              " '<s>',\n",
              " '<s>',\n",
              " '<s>',\n",
              " '<s>',\n",
              " '<s>',\n",
              " '<s>',\n",
              " '<s>',\n",
              " '<s>',\n",
              " '<s>',\n",
              " '<s>',\n",
              " '<s>',\n",
              " '<s>',\n",
              " '<s>',\n",
              " '<s>',\n",
              " '<s>',\n",
              " '<s>',\n",
              " '<s>',\n",
              " '<s>',\n",
              " '<s>',\n",
              " '<s>',\n",
              " '<s>',\n",
              " '<s>',\n",
              " '<s>',\n",
              " '<s>',\n",
              " '<s>',\n",
              " '<s>',\n",
              " '<s>',\n",
              " '<s>',\n",
              " '<s>',\n",
              " '<s>',\n",
              " '<s>',\n",
              " '<s>',\n",
              " '<s>',\n",
              " '<s>',\n",
              " '<s>',\n",
              " '<s>',\n",
              " '<s>',\n",
              " '<s>',\n",
              " '<s>',\n",
              " '<s>',\n",
              " '<s>',\n",
              " '<s>',\n",
              " '<s>',\n",
              " '<s>',\n",
              " '<s>',\n",
              " '<s>',\n",
              " '<s>',\n",
              " '<s>',\n",
              " '<s>',\n",
              " '<s>',\n",
              " '<s>',\n",
              " '<s>',\n",
              " '<s>',\n",
              " '<s>',\n",
              " '<s>',\n",
              " '<s>',\n",
              " '<s>',\n",
              " '<s>',\n",
              " '<s>',\n",
              " '<s>',\n",
              " '<s>',\n",
              " '<s>',\n",
              " '<s>',\n",
              " '<s>',\n",
              " '<s>',\n",
              " '<s>',\n",
              " '<s>',\n",
              " '<s>',\n",
              " '<s>',\n",
              " '<s>',\n",
              " '<s>',\n",
              " '<s>',\n",
              " '<s>',\n",
              " '<s>',\n",
              " '<s>',\n",
              " '<s>',\n",
              " 'i',\n",
              " 'didnt',\n",
              " 'feel',\n",
              " 'humiliated']"
            ]
          },
          "metadata": {},
          "execution_count": 9
        }
      ],
      "source": [
        "############################################################################################################\n",
        "# TODO: Define a function to convert the tokenized tweets into sequences and apply padding and truncation. #\n",
        "# Use your determined maximum length for padding the sequences.                                            #\n",
        "############################################################################################################\n",
        "\n",
        "from nltk.util import pad_sequence\n",
        "\n",
        "def get_sequences(tokenizer, tweets, max_length):\n",
        "    sequences = [tokenizer.tokenize(tweet)[:max_length] for tweet in tweets]\n",
        "    print(len(sequences[0]))\n",
        "\n",
        "    padded_sequences = [\n",
        "    list(pad_sequence(sentence, np.max(max_length-len(sentence), 0)+1, pad_left=True, pad_right=False, left_pad_symbol=\"<s>\", right_pad_symbol=\"</s>\"))\n",
        "     for sentence in sequences\n",
        "    ]\n",
        "\n",
        "    return padded_sequences\n",
        "\n",
        "\n",
        "padded_train_sequences = get_sequences(tokenizer, tweets, max_length)\n",
        "padded_val_sequences = get_sequences(tokenizer, tweets_val, max_length)\n",
        "padded_test_sequences = get_sequences(tokenizer, tweets_test, max_length)\n",
        "\n",
        "padded_train_sequences[0]"
      ]
    },
    {
      "cell_type": "markdown",
      "metadata": {
        "id": "BURhOX_KxIg8"
      },
      "source": [
        "---\n",
        "\n",
        "## Task 6: Analyzing Label Distribution\n",
        "\n",
        "1. Checking the distribution of labels.\n",
        "2. Addressing any class imbalance using appropriate techniques.\n",
        "\n",
        "Note:\n",
        "\n",
        "(**Providing a clear explanation of the chosen method to address the imbalance and how it will improve the model’s performance is critical.** Without handling class imbalance properly, the model could achieve a high accuracy by focusing on the majority class, but it may perform poorly on the minority class, which would result in misleading metrics and reduced generalization.\n",
        "\n",
        "Hence, it is important to not only implement an appropriate solution but also **justify** why the selected approach is effective for the given task.)\n",
        "\n",
        "---"
      ]
    },
    {
      "cell_type": "code",
      "execution_count": 10,
      "metadata": {
        "id": "SufT2bpD5ejE",
        "colab": {
          "base_uri": "https://localhost:8080/",
          "height": 1000
        },
        "outputId": "33ca08b8-e7fc-4bdb-b7fe-62bd82767f59"
      },
      "outputs": [
        {
          "output_type": "display_data",
          "data": {
            "text/plain": [
              "<Figure size 1000x600 with 1 Axes>"
            ],
            "image/png": "[encoded data removed]"
          },
          "metadata": {}
        },
        {
          "output_type": "display_data",
          "data": {
            "text/plain": [
              "<Figure size 1000x600 with 1 Axes>"
            ],
            "image/png": "[encoded data removed]"
          },
          "metadata": {}
        }
      ],
      "source": [
        "##########################################################################################################################\n",
        "# TODO: Analyze the distribution of labels in the training set. (visualize it in a perfect way)                          #\n",
        "# Determine if there is any class imbalance.                                                                             #\n",
        "# If you observe any imbalance, apply one of the techniques you have learned throughout the course to address the issue. #\n",
        "##########################################################################################################################\n",
        "import pandas as pd\n",
        "from sklearn.utils import resample\n",
        "\n",
        "train_data = pd.DataFrame({'tweet': padded_train_sequences, 'label': labels})\n",
        "val_data = pd.DataFrame({'tweet': padded_val_sequences, 'label': labels_val})\n",
        "test_data = pd.DataFrame({'tweet': padded_test_sequences, 'label': labels_test})\n",
        "\n",
        "label_counts = train_data['label'].value_counts()\n",
        "\n",
        "# Plot the distribution\n",
        "plt.figure(figsize=(10, 6))\n",
        "sns.barplot(x=label_counts.index, y=label_counts.values)\n",
        "plt.title('Label Distribution')\n",
        "plt.xlabel('Labels')\n",
        "plt.ylabel('Count')\n",
        "plt.show()\n",
        "\n",
        "\n",
        "majority_class = train_data[train_data['label']==1]\n",
        "balanced_data = majority_class\n",
        "\n",
        "for i in [0, 2, 3, 4, 5]:\n",
        "\n",
        "    minority_class = train_data[train_data['label']==i]\n",
        "\n",
        "    # Upsample the minority class\n",
        "    minority_upsampled = resample(minority_class, replace=True, n_samples=len(majority_class), random_state=42)\n",
        "\n",
        "    # Combine the upsampled minority class with the majority class\n",
        "    balanced_data = pd.concat([balanced_data, minority_upsampled])\n",
        "\n",
        "label_counts = balanced_data['label'].value_counts()\n",
        "\n",
        "# Plot the distribution\n",
        "plt.figure(figsize=(10, 6))\n",
        "sns.barplot(x=label_counts.index, y=label_counts.values)\n",
        "plt.title('Balanced Label Distribution After')\n",
        "plt.xlabel('Labels')\n",
        "plt.ylabel('Count')\n",
        "plt.show()"
      ]
    },
    {
      "cell_type": "code",
      "source": [
        "!pip install torchtext==0.15.2"
      ],
      "metadata": {
        "colab": {
          "base_uri": "https://localhost:8080/",
          "height": 1000
        },
        "id": "s-giCfohCqiS",
        "outputId": "dde4d0da-6bb6-4e28-8908-9225e359861c"
      },
      "execution_count": 12,
      "outputs": [
        {
          "output_type": "stream",
          "name": "stdout",
          "text": [
            "Collecting torchtext==0.15.2\n",
            "  Downloading torchtext-0.15.2-cp310-cp310-manylinux1_x86_64.whl.metadata (7.4 kB)\n",
            "Requirement already satisfied: tqdm in /usr/local/lib/python3.10/dist-packages (from torchtext==0.15.2) (4.67.1)\n",
            "Requirement already satisfied: requests in /usr/local/lib/python3.10/dist-packages (from torchtext==0.15.2) (2.32.3)\n",
            "Collecting torch==2.0.1 (from torchtext==0.15.2)\n",
            "  Downloading torch-2.0.1-cp310-cp310-manylinux1_x86_64.whl.metadata (24 kB)\n",
            "Requirement already satisfied: numpy in /usr/local/lib/python3.10/dist-packages (from torchtext==0.15.2) (1.26.4)\n",
            "Collecting torchdata==0.6.1 (from torchtext==0.15.2)\n",
            "  Downloading torchdata-0.6.1-cp310-cp310-manylinux_2_17_x86_64.manylinux2014_x86_64.whl.metadata (13 kB)\n",
            "Requirement already satisfied: filelock in /usr/local/lib/python3.10/dist-packages (from torch==2.0.1->torchtext==0.15.2) (3.16.1)\n",
            "Requirement already satisfied: typing-extensions in /usr/local/lib/python3.10/dist-packages (from torch==2.0.1->torchtext==0.15.2) (4.12.2)\n",
            "Requirement already satisfied: sympy in /usr/local/lib/python3.10/dist-packages (from torch==2.0.1->torchtext==0.15.2) (1.13.1)\n",
            "Requirement already satisfied: networkx in /usr/local/lib/python3.10/dist-packages (from torch==2.0.1->torchtext==0.15.2) (3.4.2)\n",
            "Requirement already satisfied: jinja2 in /usr/local/lib/python3.10/dist-packages (from torch==2.0.1->torchtext==0.15.2) (3.1.4)\n",
            "Collecting nvidia-cuda-nvrtc-cu11==11.7.99 (from torch==2.0.1->torchtext==0.15.2)\n",
            "  Downloading nvidia_cuda_nvrtc_cu11-11.7.99-2-py3-none-manylinux1_x86_64.whl.metadata (1.5 kB)\n",
            "Collecting nvidia-cuda-runtime-cu11==11.7.99 (from torch==2.0.1->torchtext==0.15.2)\n",
            "  Downloading nvidia_cuda_runtime_cu11-11.7.99-py3-none-manylinux1_x86_64.whl.metadata (1.6 kB)\n",
            "Collecting nvidia-cuda-cupti-cu11==11.7.101 (from torch==2.0.1->torchtext==0.15.2)\n",
            "  Downloading nvidia_cuda_cupti_cu11-11.7.101-py3-none-manylinux1_x86_64.whl.metadata (1.6 kB)\n",
            "Collecting nvidia-cudnn-cu11==8.5.0.96 (from torch==2.0.1->torchtext==0.15.2)\n",
            "  Downloading nvidia_cudnn_cu11-8.5.0.96-2-py3-none-manylinux1_x86_64.whl.metadata (1.6 kB)\n",
            "Collecting nvidia-cublas-cu11==11.10.3.66 (from torch==2.0.1->torchtext==0.15.2)\n",
            "  Downloading nvidia_cublas_cu11-11.10.3.66-py3-none-manylinux1_x86_64.whl.metadata (1.6 kB)\n",
            "Collecting nvidia-cufft-cu11==10.9.0.58 (from torch==2.0.1->torchtext==0.15.2)\n",
            "  Downloading nvidia_cufft_cu11-10.9.0.58-py3-none-manylinux2014_x86_64.whl.metadata (1.5 kB)\n",
            "Collecting nvidia-curand-cu11==10.2.10.91 (from torch==2.0.1->torchtext==0.15.2)\n",
            "  Downloading nvidia_curand_cu11-10.2.10.91-py3-none-manylinux1_x86_64.whl.metadata (1.6 kB)\n",
            "Collecting nvidia-cusolver-cu11==11.4.0.1 (from torch==2.0.1->torchtext==0.15.2)\n",
            "  Downloading nvidia_cusolver_cu11-11.4.0.1-2-py3-none-manylinux1_x86_64.whl.metadata (1.6 kB)\n",
            "Collecting nvidia-cusparse-cu11==11.7.4.91 (from torch==2.0.1->torchtext==0.15.2)\n",
            "  Downloading nvidia_cusparse_cu11-11.7.4.91-py3-none-manylinux1_x86_64.whl.metadata (1.6 kB)\n",
            "Collecting nvidia-nccl-cu11==2.14.3 (from torch==2.0.1->torchtext==0.15.2)\n",
            "  Downloading nvidia_nccl_cu11-2.14.3-py3-none-manylinux1_x86_64.whl.metadata (1.8 kB)\n",
            "Collecting nvidia-nvtx-cu11==11.7.91 (from torch==2.0.1->torchtext==0.15.2)\n",
            "  Downloading nvidia_nvtx_cu11-11.7.91-py3-none-manylinux1_x86_64.whl.metadata (1.7 kB)\n",
            "Collecting triton==2.0.0 (from torch==2.0.1->torchtext==0.15.2)\n",
            "  Downloading triton-2.0.0-1-cp310-cp310-manylinux2014_x86_64.manylinux_2_17_x86_64.whl.metadata (1.0 kB)\n",
            "Requirement already satisfied: urllib3>=1.25 in /usr/local/lib/python3.10/dist-packages (from torchdata==0.6.1->torchtext==0.15.2) (2.2.3)\n",
            "Requirement already satisfied: setuptools in /usr/local/lib/python3.10/dist-packages (from nvidia-cublas-cu11==11.10.3.66->torch==2.0.1->torchtext==0.15.2) (75.1.0)\n",
            "Requirement already satisfied: wheel in /usr/local/lib/python3.10/dist-packages (from nvidia-cublas-cu11==11.10.3.66->torch==2.0.1->torchtext==0.15.2) (0.45.1)\n",
            "Requirement already satisfied: cmake in /usr/local/lib/python3.10/dist-packages (from triton==2.0.0->torch==2.0.1->torchtext==0.15.2) (3.31.2)\n",
            "Collecting lit (from triton==2.0.0->torch==2.0.1->torchtext==0.15.2)\n",
            "  Downloading lit-18.1.8-py3-none-any.whl.metadata (2.5 kB)\n",
            "Requirement already satisfied: charset-normalizer<4,>=2 in /usr/local/lib/python3.10/dist-packages (from requests->torchtext==0.15.2) (3.4.0)\n",
            "Requirement already satisfied: idna<4,>=2.5 in /usr/local/lib/python3.10/dist-packages (from requests->torchtext==0.15.2) (3.10)\n",
            "Requirement already satisfied: certifi>=2017.4.17 in /usr/local/lib/python3.10/dist-packages (from requests->torchtext==0.15.2) (2024.12.14)\n",
            "Requirement already satisfied: MarkupSafe>=2.0 in /usr/local/lib/python3.10/dist-packages (from jinja2->torch==2.0.1->torchtext==0.15.2) (3.0.2)\n",
            "Requirement already satisfied: mpmath<1.4,>=1.1.0 in /usr/local/lib/python3.10/dist-packages (from sympy->torch==2.0.1->torchtext==0.15.2) (1.3.0)\n",
            "Downloading torchtext-0.15.2-cp310-cp310-manylinux1_x86_64.whl (2.0 MB)\n",
            "\u001b[2K   \u001b[90m━━━━━━━━━━━━━━━━━━━━━━━━━━━━━━━━━━━━━━━━\u001b[0m \u001b[32m2.0/2.0 MB\u001b[0m \u001b[31m23.8 MB/s\u001b[0m eta \u001b[36m0:00:00\u001b[0m\n",
            "\u001b[?25hDownloading torch-2.0.1-cp310-cp310-manylinux1_x86_64.whl (619.9 MB)\n",
            "\u001b[2K   \u001b[90m━━━━━━━━━━━━━━━━━━━━━━━━━━━━━━━━━━━━━━━━\u001b[0m \u001b[32m619.9/619.9 MB\u001b[0m \u001b[31m2.3 MB/s\u001b[0m eta \u001b[36m0:00:00\u001b[0m\n",
            "\u001b[?25hDownloading torchdata-0.6.1-cp310-cp310-manylinux_2_17_x86_64.manylinux2014_x86_64.whl (4.6 MB)\n",
            "\u001b[2K   \u001b[90m━━━━━━━━━━━━━━━━━━━━━━━━━━━━━━━━━━━━━━━━\u001b[0m \u001b[32m4.6/4.6 MB\u001b[0m \u001b[31m87.0 MB/s\u001b[0m eta \u001b[36m0:00:00\u001b[0m\n",
            "\u001b[?25hDownloading nvidia_cublas_cu11-11.10.3.66-py3-none-manylinux1_x86_64.whl (317.1 MB)\n",
            "\u001b[2K   \u001b[90m━━━━━━━━━━━━━━━━━━━━━━━━━━━━━━━━━━━━━━━━\u001b[0m \u001b[32m317.1/317.1 MB\u001b[0m \u001b[31m4.3 MB/s\u001b[0m eta \u001b[36m0:00:00\u001b[0m\n",
            "\u001b[?25hDownloading nvidia_cuda_cupti_cu11-11.7.101-py3-none-manylinux1_x86_64.whl (11.8 MB)\n",
            "\u001b[2K   \u001b[90m━━━━━━━━━━━━━━━━━━━━━━━━━━━━━━━━━━━━━━━━\u001b[0m \u001b[32m11.8/11.8 MB\u001b[0m \u001b[31m71.0 MB/s\u001b[0m eta \u001b[36m0:00:00\u001b[0m\n",
            "\u001b[?25hDownloading nvidia_cuda_nvrtc_cu11-11.7.99-2-py3-none-manylinux1_x86_64.whl (21.0 MB)\n",
            "\u001b[2K   \u001b[90m━━━━━━━━━━━━━━━━━━━━━━━━━━━━━━━━━━━━━━━━\u001b[0m \u001b[32m21.0/21.0 MB\u001b[0m \u001b[31m42.3 MB/s\u001b[0m eta \u001b[36m0:00:00\u001b[0m\n",
            "\u001b[?25hDownloading nvidia_cuda_runtime_cu11-11.7.99-py3-none-manylinux1_x86_64.whl (849 kB)\n",
            "\u001b[2K   \u001b[90m━━━━━━━━━━━━━━━━━━━━━━━━━━━━━━━━━━━━━━━━\u001b[0m \u001b[32m849.3/849.3 kB\u001b[0m \u001b[31m40.8 MB/s\u001b[0m eta \u001b[36m0:00:00\u001b[0m\n",
            "\u001b[?25hDownloading nvidia_cudnn_cu11-8.5.0.96-2-py3-none-manylinux1_x86_64.whl (557.1 MB)\n",
            "\u001b[2K   \u001b[90m━━━━━━━━━━━━━━━━━━━━━━━━━━━━━━━━━━━━━━━━\u001b[0m \u001b[32m557.1/557.1 MB\u001b[0m \u001b[31m3.2 MB/s\u001b[0m eta \u001b[36m0:00:00\u001b[0m\n",
            "\u001b[?25hDownloading nvidia_cufft_cu11-10.9.0.58-py3-none-manylinux2014_x86_64.whl (168.4 MB)\n",
            "\u001b[2K   \u001b[90m━━━━━━━━━━━━━━━━━━━━━━━━━━━━━━━━━━━━━━━━\u001b[0m \u001b[32m168.4/168.4 MB\u001b[0m \u001b[31m6.6 MB/s\u001b[0m eta \u001b[36m0:00:00\u001b[0m\n",
            "\u001b[?25hDownloading nvidia_curand_cu11-10.2.10.91-py3-none-manylinux1_x86_64.whl (54.6 MB)\n",
            "\u001b[2K   \u001b[90m━━━━━━━━━━━━━━━━━━━━━━━━━━━━━━━━━━━━━━━━\u001b[0m \u001b[32m54.6/54.6 MB\u001b[0m \u001b[31m14.6 MB/s\u001b[0m eta \u001b[36m0:00:00\u001b[0m\n",
            "\u001b[?25hDownloading nvidia_cusolver_cu11-11.4.0.1-2-py3-none-manylinux1_x86_64.whl (102.6 MB)\n",
            "\u001b[2K   \u001b[90m━━━━━━━━━━━━━━━━━━━━━━━━━━━━━━━━━━━━━━━━\u001b[0m \u001b[32m102.6/102.6 MB\u001b[0m \u001b[31m8.8 MB/s\u001b[0m eta \u001b[36m0:00:00\u001b[0m\n",
            "\u001b[?25hDownloading nvidia_cusparse_cu11-11.7.4.91-py3-none-manylinux1_x86_64.whl (173.2 MB)\n",
            "\u001b[2K   \u001b[90m━━━━━━━━━━━━━━━━━━━━━━━━━━━━━━━━━━━━━━━━\u001b[0m \u001b[32m173.2/173.2 MB\u001b[0m \u001b[31m6.8 MB/s\u001b[0m eta \u001b[36m0:00:00\u001b[0m\n",
            "\u001b[?25hDownloading nvidia_nccl_cu11-2.14.3-py3-none-manylinux1_x86_64.whl (177.1 MB)\n",
            "\u001b[2K   \u001b[90m━━━━━━━━━━━━━━━━━━━━━━━━━━━━━━━━━━━━━━━━\u001b[0m \u001b[32m177.1/177.1 MB\u001b[0m \u001b[31m6.5 MB/s\u001b[0m eta \u001b[36m0:00:00\u001b[0m\n",
            "\u001b[?25hDownloading nvidia_nvtx_cu11-11.7.91-py3-none-manylinux1_x86_64.whl (98 kB)\n",
            "\u001b[2K   \u001b[90m━━━━━━━━━━━━━━━━━━━━━━━━━━━━━━━━━━━━━━━━\u001b[0m \u001b[32m98.6/98.6 kB\u001b[0m \u001b[31m9.5 MB/s\u001b[0m eta \u001b[36m0:00:00\u001b[0m\n",
            "\u001b[?25hDownloading triton-2.0.0-1-cp310-cp310-manylinux2014_x86_64.manylinux_2_17_x86_64.whl (63.3 MB)\n",
            "\u001b[2K   \u001b[90m━━━━━━━━━━━━━━━━━━━━━━━━━━━━━━━━━━━━━━━━\u001b[0m \u001b[32m63.3/63.3 MB\u001b[0m \u001b[31m13.1 MB/s\u001b[0m eta \u001b[36m0:00:00\u001b[0m\n",
            "\u001b[?25hDownloading lit-18.1.8-py3-none-any.whl (96 kB)\n",
            "\u001b[2K   \u001b[90m━━━━━━━━━━━━━━━━━━━━━━━━━━━━━━━━━━━━━━━━\u001b[0m \u001b[32m96.4/96.4 kB\u001b[0m \u001b[31m8.7 MB/s\u001b[0m eta \u001b[36m0:00:00\u001b[0m\n",
            "\u001b[?25hInstalling collected packages: lit, nvidia-nvtx-cu11, nvidia-nccl-cu11, nvidia-cusparse-cu11, nvidia-curand-cu11, nvidia-cufft-cu11, nvidia-cuda-runtime-cu11, nvidia-cuda-nvrtc-cu11, nvidia-cuda-cupti-cu11, nvidia-cublas-cu11, nvidia-cusolver-cu11, nvidia-cudnn-cu11, triton, torch, torchdata, torchtext\n",
            "  Attempting uninstall: torch\n",
            "    Found existing installation: torch 2.5.1+cu121\n",
            "    Uninstalling torch-2.5.1+cu121:\n",
            "      Successfully uninstalled torch-2.5.1+cu121\n",
            "\u001b[31mERROR: pip's dependency resolver does not currently take into account all the packages that are installed. This behaviour is the source of the following dependency conflicts.\n",
            "torchaudio 2.5.1+cu121 requires torch==2.5.1, but you have torch 2.0.1 which is incompatible.\n",
            "torchvision 0.20.1+cu121 requires torch==2.5.1, but you have torch 2.0.1 which is incompatible.\u001b[0m\u001b[31m\n",
            "\u001b[0mSuccessfully installed lit-18.1.8 nvidia-cublas-cu11-11.10.3.66 nvidia-cuda-cupti-cu11-11.7.101 nvidia-cuda-nvrtc-cu11-11.7.99 nvidia-cuda-runtime-cu11-11.7.99 nvidia-cudnn-cu11-8.5.0.96 nvidia-cufft-cu11-10.9.0.58 nvidia-curand-cu11-10.2.10.91 nvidia-cusolver-cu11-11.4.0.1 nvidia-cusparse-cu11-11.7.4.91 nvidia-nccl-cu11-2.14.3 nvidia-nvtx-cu11-11.7.91 torch-2.0.1 torchdata-0.6.1 torchtext-0.15.2 triton-2.0.0\n"
          ]
        },
        {
          "output_type": "display_data",
          "data": {
            "application/vnd.colab-display-data+json": {
              "pip_warning": {
                "packages": [
                  "torch",
                  "torchgen"
                ]
              },
              "id": "610d7daab18443b18ac18ecb8d0b628d"
            }
          },
          "metadata": {}
        }
      ]
    },
    {
      "cell_type": "code",
      "source": [
        "from collections import Counter\n",
        "from torchtext.data.utils import get_tokenizer\n",
        "from torchtext.vocab import build_vocab_from_iterator\n",
        "\n",
        "\n",
        "# Count the occurrences of each word\n",
        "word_counts = Counter(token for tokens in padded_train_sequences for token in tokens)\n",
        "\n",
        "# Filter out non-repetitive words\n",
        "filtered_tokens = [[token for token in tokens if word_counts[token] > 1] for tokens in padded_train_sequences]\n",
        "\n",
        "# Build the vocabulary\n",
        "def yield_tokens(data):\n",
        "    for tokens in data:\n",
        "        yield tokens\n",
        "\n",
        "vocab = build_vocab_from_iterator(yield_tokens(filtered_tokens), specials=[\"<unk>\", \"<pad>\", \"<eos>\"])\n",
        "vocab.set_default_index(vocab[\"<unk>\"])\n",
        "\n",
        "# Manually insert special tokens\n",
        "vocab.insert_token(\"<bos>\", 0)\n",
        "vocab.set_default_index(vocab[\"<unk>\"])\n",
        "\n",
        "# Test the vocabulary\n",
        "sample_tokens = [\"the\", \"quick\", \"brown\", \"<eos>\", \"unknown_token\"]\n",
        "indices = vocab(sample_tokens)\n",
        "print(\"Indices:\", indices)\n",
        "\n",
        "reconstructed_tokens = [vocab.lookup_token(idx) for idx in indices]\n",
        "print(\"Reconstructed Tokens:\", reconstructed_tokens)"
      ],
      "metadata": {
        "colab": {
          "base_uri": "https://localhost:8080/"
        },
        "id": "7PKlgSkWCNat",
        "outputId": "a4952665-bfaf-48de-cd8e-7c9b27099818"
      },
      "execution_count": 11,
      "outputs": [
        {
          "output_type": "stream",
          "name": "stdout",
          "text": [
            "Indices: [9, 2955, 1490, 3, 1]\n",
            "Reconstructed Tokens: ['the', 'quick', 'brown', '<eos>', '<unk>']\n"
          ]
        }
      ]
    },
    {
      "cell_type": "code",
      "source": [
        "from torch.utils.data import DataLoader, Dataset\n",
        "\n",
        "class TweetDataset(Dataset):\n",
        "  def __init__(self, data, vocab):\n",
        "      tweets = list(data['tweet'])\n",
        "      targets = data['label']\n",
        "\n",
        "      inputs = []\n",
        "      tweets = data['tweet']\n",
        "      for i in range(len(tweets)):\n",
        "        inputs.append(vocab(tweets[i]))\n",
        "\n",
        "      self.data = list(zip(torch.tensor(inputs), torch.tensor(targets)))\n",
        "      self.len = len(targets)\n",
        "\n",
        "  def __len__(self):\n",
        "      return self.len\n",
        "\n",
        "  def __getitem__(self, idx):\n",
        "      return self.data[idx]\n",
        "\n",
        "\n",
        "train_ds = TweetDataset(train_data, vocab)\n",
        "val_ds = TweetDataset(val_data, vocab)\n",
        "test_ds = TweetDataset(test_data, vocab)\n"
      ],
      "metadata": {
        "id": "zcWFGBNNABdm"
      },
      "execution_count": 12,
      "outputs": []
    },
    {
      "cell_type": "code",
      "source": [
        "batch_size = 32\n",
        "\n",
        "train_loader = DataLoader(train_ds, batch_size=batch_size, shuffle=True)\n",
        "val_loader = DataLoader(val_ds, batch_size=batch_size, shuffle=False)\n",
        "test_loader = DataLoader(test_ds, batch_size=batch_size, shuffle=False)"
      ],
      "metadata": {
        "id": "ekE1iYNgMl3a"
      },
      "execution_count": 13,
      "outputs": []
    },
    {
      "cell_type": "code",
      "source": [
        "indices, label = next(iter(train_loader))\n",
        "print(\"Indices:\", indices)\n",
        "\n",
        "reconstructed_tokens = [vocab.lookup_token(idx) for idx in indices[0]]\n",
        "print(\"Reconstructed Tokens:\", reconstructed_tokens)"
      ],
      "metadata": {
        "colab": {
          "base_uri": "https://localhost:8080/"
        },
        "id": "m4xEH-vBNE0p",
        "outputId": "0508c775-237c-4931-93dc-7a8ae29e8fb1"
      },
      "execution_count": 14,
      "outputs": [
        {
          "output_type": "stream",
          "name": "stdout",
          "text": [
            "Indices: tensor([[   4,    4,    4,  ...,    5,   43,   83],\n",
            "        [   4,    4,    4,  ...,    1,  182,  205],\n",
            "        [   4,    4,    4,  ...,   65,  166, 6935],\n",
            "        ...,\n",
            "        [   4,    4,    4,  ...,   98,    5,   42],\n",
            "        [   4,    4,    4,  ...,    8,  112, 4590],\n",
            "        [   4,    4,    4,  ...,  216,    1, 4101]])\n",
            "Reconstructed Tokens: ['<s>', '<s>', '<s>', '<s>', '<s>', '<s>', '<s>', '<s>', '<s>', '<s>', '<s>', '<s>', '<s>', '<s>', '<s>', '<s>', '<s>', '<s>', '<s>', '<s>', '<s>', '<s>', '<s>', '<s>', '<s>', '<s>', '<s>', '<s>', '<s>', '<s>', '<s>', '<s>', '<s>', '<s>', '<s>', '<s>', '<s>', '<s>', '<s>', '<s>', '<s>', '<s>', '<s>', '<s>', '<s>', '<s>', '<s>', '<s>', '<s>', '<s>', '<s>', '<s>', '<s>', '<s>', '<s>', '<s>', '<s>', '<s>', '<s>', '<s>', '<s>', '<s>', '<s>', '<s>', '<s>', '<s>', '<s>', '<s>', '<s>', '<s>', '<s>', '<s>', '<s>', '<s>', '<s>', '<s>', '<s>', '<s>', '<s>', '<s>', '<s>', '<s>', '<s>', '<s>', '<s>', '<s>', '<s>', '<s>', '<s>', '<s>', '<s>', '<s>', '<s>', '<s>', '<s>', '<s>', '<s>', '<s>', '<s>', '<s>', '<s>', '<s>', '<s>', '<s>', '<s>', '<s>', '<s>', '<s>', '<s>', '<s>', '<s>', '<s>', '<s>', '<s>', '<s>', '<s>', '<s>', '<s>', '<s>', '<s>', '<s>', '<s>', '<s>', '<s>', '<s>', '<s>', '<s>', '<s>', '<s>', '<s>', '<s>', '<s>', '<s>', '<s>', '<s>', '<s>', '<s>', '<s>', '<s>', '<s>', '<s>', '<s>', '<s>', '<s>', '<s>', '<s>', '<s>', '<s>', '<s>', '<s>', '<s>', 'i', 'feel', 'like', 'they', 'just', 'feel', 'guilty', 'for', 'treating', 'me', 'badly', 'and', 'i', 'dont', 'really', 'want', 'to', 'go', 'back', 'as', 'i', 'wont', 'get', 'on', 'the', 'league', 'proper', 'anyway', 'due', 'to', 'my', 'inability', 'to', 'make', 'every', 'practice', 'and', 'service', 'hours', 'despite', 'being', 'a', 'very', 'good', '<unk>', 'and', 'having', 'a', 'good', 'attitude', 'toward', 'the', '<unk>', 'i', 'can', 'make']\n"
          ]
        }
      ]
    },
    {
      "cell_type": "markdown",
      "metadata": {
        "id": "c-v0Mnh8xIhP"
      },
      "source": [
        "---\n",
        "\n",
        "## Task 7: Creating the Model\n",
        "\n",
        "Design and implement a recurrent neural network for the task. You may utilize a sequential architecture like RNN or GRU to enhance the model's performance.\n",
        "\n",
        "Build and compile your model using Pytorch.\n",
        "\n",
        "**Once the model is created, summarize its structure to verify the design.**\n",
        "\n",
        "---"
      ]
    },
    {
      "cell_type": "code",
      "execution_count": 15,
      "metadata": {
        "id": "OpewXxPQ5eji",
        "colab": {
          "base_uri": "https://localhost:8080/"
        },
        "outputId": "809614e6-963e-4b56-9a90-5b16c4c3c841"
      },
      "outputs": [
        {
          "output_type": "execute_result",
          "data": {
            "text/plain": [
              "LanguageModel(\n",
              "  (embedding): Embedding(7405, 200)\n",
              "  (rnn): LSTM(200, 256, batch_first=True, bidirectional=True)\n",
              "  (fc): Sequential(\n",
              "    (0): Flatten(start_dim=1, end_dim=-1)\n",
              "    (1): Linear(in_features=3072, out_features=256, bias=True)\n",
              "    (2): ReLU()\n",
              "    (3): Dropout(p=0.2, inplace=False)\n",
              "    (4): Linear(in_features=256, out_features=256, bias=True)\n",
              "    (5): ReLU()\n",
              "    (6): Linear(in_features=256, out_features=256, bias=True)\n",
              "    (7): ReLU()\n",
              "    (8): Linear(in_features=256, out_features=256, bias=True)\n",
              "    (9): ReLU()\n",
              "    (10): Linear(in_features=256, out_features=256, bias=True)\n",
              "    (11): ReLU()\n",
              "    (12): Linear(in_features=256, out_features=6, bias=True)\n",
              "    (13): Softmax(dim=1)\n",
              "  )\n",
              ")"
            ]
          },
          "metadata": {},
          "execution_count": 15
        }
      ],
      "source": [
        "#########################################################################################################\n",
        "# TODO:                                                                                                 #\n",
        "# Create a recurrent neural network model for the task.                                                 #\n",
        "# (Suggestion: Implement a Bidirectional LSTM architecture to process the input sequences effectively.) #\n",
        "# Once the model is created, summarize its structure to verify the design.                              #\n",
        "#########################################################################################################\n",
        "import torch.nn as nn\n",
        "\n",
        "class LanguageModel(nn.Module):\n",
        "    def __init__(self, vocab_size, embedding_dim, hidden_dim, dropout_rate):\n",
        "        super(LanguageModel, self).__init__()\n",
        "        self.embedding = nn.Embedding(vocab_size, embedding_dim)\n",
        "        self.rnn = nn.LSTM(embedding_dim, hidden_dim, batch_first=True, bidirectional=True)\n",
        "\n",
        "        self.fc = nn.Sequential(\n",
        "              nn.Flatten(),\n",
        "              nn.Linear(hidden_dim*2*6, hidden_dim),\n",
        "              nn.ReLU(),\n",
        "              nn.Dropout(dropout_rate),\n",
        "              nn.Linear(hidden_dim, hidden_dim),\n",
        "              nn.ReLU(),\n",
        "              nn.Linear(hidden_dim, hidden_dim),\n",
        "              nn.ReLU(),\n",
        "              nn.Linear(hidden_dim, hidden_dim),\n",
        "              nn.ReLU(),\n",
        "              nn.Linear(hidden_dim, hidden_dim),\n",
        "              nn.ReLU(),\n",
        "              nn.Linear(hidden_dim, 6),\n",
        "              nn.Softmax(dim=1)\n",
        "          )\n",
        "\n",
        "\n",
        "    def forward(self, src):\n",
        "        embedded = self.embedding(src)\n",
        "        output, _ = self.rnn(embedded)\n",
        "        last_hidden = output[:, -6:, :]\n",
        "\n",
        "        logits = self.fc(last_hidden)\n",
        "        return logits\n",
        "\n",
        "\n",
        "# Training parameters\n",
        "vocab_size = len(vocab)\n",
        "embedding_dim = 200\n",
        "hidden_dim = 256\n",
        "num_epochs = 10\n",
        "learning_rate = 0.001\n",
        "\n",
        "\n",
        "model = LanguageModel(vocab_size, embedding_dim, hidden_dim, 0.2)\n",
        "\n",
        "model"
      ]
    },
    {
      "cell_type": "markdown",
      "metadata": {
        "id": "1HST_CHjxIhR"
      },
      "source": [
        "---\n",
        "\n",
        "## Task 8: Training the Model\n",
        "\n",
        "In this task, you will prepare a validation set and train your model using the training data.\n",
        "\n",
        "1. Prepare the validation set by extracting tweets and labels, and convert them into sequences using the tokenizer.\n",
        "2. Train the model on the training data.\n",
        "3. Ensure that you implement **Early Stopping** to prevent overfitting and enhance efficiency.\n",
        "\n",
        "Make sure to monitor the validation accuracy during training and adjust the parameters as necessary.\n",
        "\n",
        "---"
      ]
    },
    {
      "cell_type": "code",
      "execution_count": 16,
      "metadata": {
        "id": "Ff7F3hCK5ejm"
      },
      "outputs": [],
      "source": [
        "###############################################################################################################\n",
        "# TODO: Extract the tweets and labels from the validation set. Convert the tweets into sequences using the    #\n",
        "#       tokenizer defined earlier. Prepare the data for validation and ensure it matches the format of the    #\n",
        "#       training set.                                                                                         #\n",
        "###############################################################################################################\n",
        "\n",
        "# Your code for extracting and processing validation data goes here\n",
        "\n",
        "# ********************** DONE BEFORE ****************************\n",
        "\n",
        "###############################################################################################################\n",
        "# TODO: Train the model on the prepared training data. Ensure you implement early stopping to monitor the     #\n",
        "#       validation accuracy and prevent overfitting. Adjust the number of epochs or other hyperparameters as  #\n",
        "#       needed to optimize model performance.                                                                 #\n",
        "###############################################################################################################\n",
        "\n",
        "# Your code for training the model with early stopping goes here\n",
        "\n",
        "\n",
        "class AverageMeter(object):\n",
        "    \"\"\"Computes and stores the average and current value\"\"\"\n",
        "    def __init__(self):\n",
        "        self.reset()\n",
        "\n",
        "    def reset(self):\n",
        "        self.val = 0\n",
        "        self.avg = 0\n",
        "        self.sum = 0\n",
        "        self.count = 0\n",
        "\n",
        "    def update(self, val, n=1):\n",
        "        self.val = val\n",
        "        self.sum += val * n\n",
        "        self.count += n\n",
        "        self.avg = self.sum / self.count\n",
        "\n",
        "\n",
        "def train_one_epoch(model, train_loader, loss_fn, optimizer, metric, epoch, device):\n",
        "  model.train()\n",
        "  loss_train = AverageMeter()\n",
        "  metric.reset()\n",
        "\n",
        "  with tqdm.tqdm(train_loader, unit='batch') as tepoch:\n",
        "    for inputs, targets in tepoch:\n",
        "      if epoch:\n",
        "        tepoch.set_description(f'Epoch {epoch}')\n",
        "\n",
        "      inputs = inputs.to(device)\n",
        "      targets = targets.to(device)\n",
        "\n",
        "      outputs = model(inputs)\n",
        "      #print(outputs)\n",
        "\n",
        "      loss = loss_fn(outputs, targets)\n",
        "\n",
        "      loss.backward()\n",
        "\n",
        "      optimizer.step()\n",
        "      optimizer.zero_grad()\n",
        "\n",
        "      loss_train.update(loss.item(), n=len(targets))\n",
        "      metric.update(torch.argmax(outputs, dim=1), targets)\n",
        "\n",
        "      tepoch.set_postfix(loss=loss_train.avg, metric=metric.compute().item())\n",
        "\n",
        "  return model, loss_train.avg, metric.compute().item()\n",
        "\n",
        "\n",
        "def evaluate(model, test_loader, loss_fn, metric, device):\n",
        "  model.eval()\n",
        "  loss_eval = AverageMeter()\n",
        "  metric.reset()\n",
        "\n",
        "  with torch.inference_mode():\n",
        "    for inputs, targets in test_loader:\n",
        "      inputs = inputs.to(device)\n",
        "      targets = targets.to(device)\n",
        "\n",
        "      outputs = model(inputs)\n",
        "\n",
        "      loss = loss_fn(outputs, targets)\n",
        "      loss_eval.update(loss.item(), n=len(targets))\n",
        "\n",
        "      metric(torch.argmax(outputs, dim=1), targets)\n",
        "\n",
        "  return loss_eval.avg, metric.compute().item()\n",
        "\n",
        "\n"
      ]
    },
    {
      "cell_type": "code",
      "source": [
        "!pip install torchmetrics"
      ],
      "metadata": {
        "colab": {
          "base_uri": "https://localhost:8080/"
        },
        "id": "6FwDXdQPW8jR",
        "outputId": "d371a0c4-df1f-42bb-d00a-84b3b246fe34"
      },
      "execution_count": 18,
      "outputs": [
        {
          "output_type": "stream",
          "name": "stdout",
          "text": [
            "Collecting torchmetrics\n",
            "  Downloading torchmetrics-1.6.1-py3-none-any.whl.metadata (21 kB)\n",
            "Requirement already satisfied: numpy>1.20.0 in /usr/local/lib/python3.10/dist-packages (from torchmetrics) (1.26.4)\n",
            "Requirement already satisfied: packaging>17.1 in /usr/local/lib/python3.10/dist-packages (from torchmetrics) (24.2)\n",
            "Requirement already satisfied: torch>=2.0.0 in /usr/local/lib/python3.10/dist-packages (from torchmetrics) (2.0.1)\n",
            "Collecting lightning-utilities>=0.8.0 (from torchmetrics)\n",
            "  Downloading lightning_utilities-0.11.9-py3-none-any.whl.metadata (5.2 kB)\n",
            "Requirement already satisfied: setuptools in /usr/local/lib/python3.10/dist-packages (from lightning-utilities>=0.8.0->torchmetrics) (75.1.0)\n",
            "Requirement already satisfied: typing-extensions in /usr/local/lib/python3.10/dist-packages (from lightning-utilities>=0.8.0->torchmetrics) (4.12.2)\n",
            "Requirement already satisfied: filelock in /usr/local/lib/python3.10/dist-packages (from torch>=2.0.0->torchmetrics) (3.16.1)\n",
            "Requirement already satisfied: sympy in /usr/local/lib/python3.10/dist-packages (from torch>=2.0.0->torchmetrics) (1.13.1)\n",
            "Requirement already satisfied: networkx in /usr/local/lib/python3.10/dist-packages (from torch>=2.0.0->torchmetrics) (3.4.2)\n",
            "Requirement already satisfied: jinja2 in /usr/local/lib/python3.10/dist-packages (from torch>=2.0.0->torchmetrics) (3.1.4)\n",
            "Requirement already satisfied: nvidia-cuda-nvrtc-cu11==11.7.99 in /usr/local/lib/python3.10/dist-packages (from torch>=2.0.0->torchmetrics) (11.7.99)\n",
            "Requirement already satisfied: nvidia-cuda-runtime-cu11==11.7.99 in /usr/local/lib/python3.10/dist-packages (from torch>=2.0.0->torchmetrics) (11.7.99)\n",
            "Requirement already satisfied: nvidia-cuda-cupti-cu11==11.7.101 in /usr/local/lib/python3.10/dist-packages (from torch>=2.0.0->torchmetrics) (11.7.101)\n",
            "Requirement already satisfied: nvidia-cudnn-cu11==8.5.0.96 in /usr/local/lib/python3.10/dist-packages (from torch>=2.0.0->torchmetrics) (8.5.0.96)\n",
            "Requirement already satisfied: nvidia-cublas-cu11==11.10.3.66 in /usr/local/lib/python3.10/dist-packages (from torch>=2.0.0->torchmetrics) (11.10.3.66)\n",
            "Requirement already satisfied: nvidia-cufft-cu11==10.9.0.58 in /usr/local/lib/python3.10/dist-packages (from torch>=2.0.0->torchmetrics) (10.9.0.58)\n",
            "Requirement already satisfied: nvidia-curand-cu11==10.2.10.91 in /usr/local/lib/python3.10/dist-packages (from torch>=2.0.0->torchmetrics) (10.2.10.91)\n",
            "Requirement already satisfied: nvidia-cusolver-cu11==11.4.0.1 in /usr/local/lib/python3.10/dist-packages (from torch>=2.0.0->torchmetrics) (11.4.0.1)\n",
            "Requirement already satisfied: nvidia-cusparse-cu11==11.7.4.91 in /usr/local/lib/python3.10/dist-packages (from torch>=2.0.0->torchmetrics) (11.7.4.91)\n",
            "Requirement already satisfied: nvidia-nccl-cu11==2.14.3 in /usr/local/lib/python3.10/dist-packages (from torch>=2.0.0->torchmetrics) (2.14.3)\n",
            "Requirement already satisfied: nvidia-nvtx-cu11==11.7.91 in /usr/local/lib/python3.10/dist-packages (from torch>=2.0.0->torchmetrics) (11.7.91)\n",
            "Requirement already satisfied: triton==2.0.0 in /usr/local/lib/python3.10/dist-packages (from torch>=2.0.0->torchmetrics) (2.0.0)\n",
            "Requirement already satisfied: wheel in /usr/local/lib/python3.10/dist-packages (from nvidia-cublas-cu11==11.10.3.66->torch>=2.0.0->torchmetrics) (0.45.1)\n",
            "Requirement already satisfied: cmake in /usr/local/lib/python3.10/dist-packages (from triton==2.0.0->torch>=2.0.0->torchmetrics) (3.31.2)\n",
            "Requirement already satisfied: lit in /usr/local/lib/python3.10/dist-packages (from triton==2.0.0->torch>=2.0.0->torchmetrics) (18.1.8)\n",
            "Requirement already satisfied: MarkupSafe>=2.0 in /usr/local/lib/python3.10/dist-packages (from jinja2->torch>=2.0.0->torchmetrics) (3.0.2)\n",
            "Requirement already satisfied: mpmath<1.4,>=1.1.0 in /usr/local/lib/python3.10/dist-packages (from sympy->torch>=2.0.0->torchmetrics) (1.3.0)\n",
            "Downloading torchmetrics-1.6.1-py3-none-any.whl (927 kB)\n",
            "\u001b[2K   \u001b[90m━━━━━━━━━━━━━━━━━━━━━━━━━━━━━━━━━━━━━━━━\u001b[0m \u001b[32m927.3/927.3 kB\u001b[0m \u001b[31m14.5 MB/s\u001b[0m eta \u001b[36m0:00:00\u001b[0m\n",
            "\u001b[?25hDownloading lightning_utilities-0.11.9-py3-none-any.whl (28 kB)\n",
            "Installing collected packages: lightning-utilities, torchmetrics\n",
            "Successfully installed lightning-utilities-0.11.9 torchmetrics-1.6.1\n"
          ]
        }
      ]
    },
    {
      "cell_type": "code",
      "source": [
        "import torchmetrics\n",
        "import tqdm\n",
        "\n",
        "device = 'cpu'\n",
        "loss_fn = nn.CrossEntropyLoss()\n",
        "metric = torchmetrics.Accuracy(task=\"multiclass\", num_classes=6).to(device)\n",
        "#optimizer = torch.optim.Adam(model.parameters(), lr=learning_rate)\n",
        "optimizer = torch.optim.SGD(model.parameters(), lr=1e-3, momentum=0.9)\n",
        "\n",
        "\n",
        "loss_train_hist = []\n",
        "loss_valid_hist = []\n",
        "\n",
        "metric_train_hist = []\n",
        "metric_valid_hist = []\n",
        "\n",
        "best_loss_valid = torch.inf\n",
        "epoch_counter = 0\n",
        "num_epochs = 3\n",
        "\n",
        "for epoch in range(num_epochs):\n",
        "  model, loss_train, metric_train = train_one_epoch(model, train_loader, loss_fn, optimizer, metric, epoch, device)\n",
        "  loss_valid, metric_valid = evaluate(model, val_loader, loss_fn, metric, device)\n",
        "\n",
        "  loss_train_hist.append(loss_train)\n",
        "  loss_valid_hist.append(loss_valid)\n",
        "\n",
        "  metric_train_hist.append(metric_train)\n",
        "  metric_valid_hist.append(metric_valid)\n",
        "\n",
        "  if loss_valid < best_loss_valid:\n",
        "    torch.save(model, f'model.pt')\n",
        "    best_loss_valid = loss_valid\n",
        "    print('Model Saved!')\n",
        "\n",
        "  print(f'Valid: Loss = {loss_valid:.4}, Metric = {metric_valid:.4}')\n",
        "  print()\n",
        "  epoch_counter += 1"
      ],
      "metadata": {
        "colab": {
          "base_uri": "https://localhost:8080/",
          "height": 460
        },
        "id": "KHLyeverWRuq",
        "outputId": "cc652509-0ffe-4aec-debb-7a0188ec055b"
      },
      "execution_count": 22,
      "outputs": [
        {
          "output_type": "stream",
          "name": "stderr",
          "text": [
            "100%|██████████| 500/500 [07:50<00:00,  1.06batch/s, loss=1.67, metric=0.335]\n"
          ]
        },
        {
          "output_type": "stream",
          "name": "stdout",
          "text": [
            "Model Saved!\n",
            "Valid: Loss = 1.667, Metric = 0.352\n",
            "\n"
          ]
        },
        {
          "output_type": "stream",
          "name": "stderr",
          "text": [
            "Epoch 1:  28%|██▊       | 141/500 [02:11<05:33,  1.08batch/s, loss=1.67, metric=0.337]\n"
          ]
        },
        {
          "output_type": "error",
          "ename": "KeyboardInterrupt",
          "evalue": "",
          "traceback": [
            "\u001b[0;31m---------------------------------------------------------------------------\u001b[0m",
            "\u001b[0;31mKeyboardInterrupt\u001b[0m                         Traceback (most recent call last)",
            "\u001b[0;32m<ipython-input-22-351668a96ca8>\u001b[0m in \u001b[0;36m<cell line: 21>\u001b[0;34m()\u001b[0m\n\u001b[1;32m     20\u001b[0m \u001b[0;34m\u001b[0m\u001b[0m\n\u001b[1;32m     21\u001b[0m \u001b[0;32mfor\u001b[0m \u001b[0mepoch\u001b[0m \u001b[0;32min\u001b[0m \u001b[0mrange\u001b[0m\u001b[0;34m(\u001b[0m\u001b[0mnum_epochs\u001b[0m\u001b[0;34m)\u001b[0m\u001b[0;34m:\u001b[0m\u001b[0;34m\u001b[0m\u001b[0;34m\u001b[0m\u001b[0m\n\u001b[0;32m---> 22\u001b[0;31m   \u001b[0mmodel\u001b[0m\u001b[0;34m,\u001b[0m \u001b[0mloss_train\u001b[0m\u001b[0;34m,\u001b[0m \u001b[0mmetric_train\u001b[0m \u001b[0;34m=\u001b[0m \u001b[0mtrain_one_epoch\u001b[0m\u001b[0;34m(\u001b[0m\u001b[0mmodel\u001b[0m\u001b[0;34m,\u001b[0m \u001b[0mtrain_loader\u001b[0m\u001b[0;34m,\u001b[0m \u001b[0mloss_fn\u001b[0m\u001b[0;34m,\u001b[0m \u001b[0moptimizer\u001b[0m\u001b[0;34m,\u001b[0m \u001b[0mmetric\u001b[0m\u001b[0;34m,\u001b[0m \u001b[0mepoch\u001b[0m\u001b[0;34m,\u001b[0m \u001b[0mdevice\u001b[0m\u001b[0;34m)\u001b[0m\u001b[0;34m\u001b[0m\u001b[0;34m\u001b[0m\u001b[0m\n\u001b[0m\u001b[1;32m     23\u001b[0m   \u001b[0mloss_valid\u001b[0m\u001b[0;34m,\u001b[0m \u001b[0mmetric_valid\u001b[0m \u001b[0;34m=\u001b[0m \u001b[0mevaluate\u001b[0m\u001b[0;34m(\u001b[0m\u001b[0mmodel\u001b[0m\u001b[0;34m,\u001b[0m \u001b[0mval_loader\u001b[0m\u001b[0;34m,\u001b[0m \u001b[0mloss_fn\u001b[0m\u001b[0;34m,\u001b[0m \u001b[0mmetric\u001b[0m\u001b[0;34m,\u001b[0m \u001b[0mdevice\u001b[0m\u001b[0;34m)\u001b[0m\u001b[0;34m\u001b[0m\u001b[0;34m\u001b[0m\u001b[0m\n\u001b[1;32m     24\u001b[0m \u001b[0;34m\u001b[0m\u001b[0m\n",
            "\u001b[0;32m<ipython-input-16-6312e0f12ab8>\u001b[0m in \u001b[0;36mtrain_one_epoch\u001b[0;34m(model, train_loader, loss_fn, optimizer, metric, epoch, device)\u001b[0m\n\u001b[1;32m     54\u001b[0m       \u001b[0mloss\u001b[0m \u001b[0;34m=\u001b[0m \u001b[0mloss_fn\u001b[0m\u001b[0;34m(\u001b[0m\u001b[0moutputs\u001b[0m\u001b[0;34m,\u001b[0m \u001b[0mtargets\u001b[0m\u001b[0;34m)\u001b[0m\u001b[0;34m\u001b[0m\u001b[0;34m\u001b[0m\u001b[0m\n\u001b[1;32m     55\u001b[0m \u001b[0;34m\u001b[0m\u001b[0m\n\u001b[0;32m---> 56\u001b[0;31m       \u001b[0mloss\u001b[0m\u001b[0;34m.\u001b[0m\u001b[0mbackward\u001b[0m\u001b[0;34m(\u001b[0m\u001b[0;34m)\u001b[0m\u001b[0;34m\u001b[0m\u001b[0;34m\u001b[0m\u001b[0m\n\u001b[0m\u001b[1;32m     57\u001b[0m \u001b[0;34m\u001b[0m\u001b[0m\n\u001b[1;32m     58\u001b[0m       \u001b[0moptimizer\u001b[0m\u001b[0;34m.\u001b[0m\u001b[0mstep\u001b[0m\u001b[0;34m(\u001b[0m\u001b[0;34m)\u001b[0m\u001b[0;34m\u001b[0m\u001b[0;34m\u001b[0m\u001b[0m\n",
            "\u001b[0;32m/usr/local/lib/python3.10/dist-packages/torch/_tensor.py\u001b[0m in \u001b[0;36mbackward\u001b[0;34m(self, gradient, retain_graph, create_graph, inputs)\u001b[0m\n\u001b[1;32m    485\u001b[0m                 \u001b[0minputs\u001b[0m\u001b[0;34m=\u001b[0m\u001b[0minputs\u001b[0m\u001b[0;34m,\u001b[0m\u001b[0;34m\u001b[0m\u001b[0;34m\u001b[0m\u001b[0m\n\u001b[1;32m    486\u001b[0m             )\n\u001b[0;32m--> 487\u001b[0;31m         torch.autograd.backward(\n\u001b[0m\u001b[1;32m    488\u001b[0m             \u001b[0mself\u001b[0m\u001b[0;34m,\u001b[0m \u001b[0mgradient\u001b[0m\u001b[0;34m,\u001b[0m \u001b[0mretain_graph\u001b[0m\u001b[0;34m,\u001b[0m \u001b[0mcreate_graph\u001b[0m\u001b[0;34m,\u001b[0m \u001b[0minputs\u001b[0m\u001b[0;34m=\u001b[0m\u001b[0minputs\u001b[0m\u001b[0;34m\u001b[0m\u001b[0;34m\u001b[0m\u001b[0m\n\u001b[1;32m    489\u001b[0m         )\n",
            "\u001b[0;32m/usr/local/lib/python3.10/dist-packages/torch/autograd/__init__.py\u001b[0m in \u001b[0;36mbackward\u001b[0;34m(tensors, grad_tensors, retain_graph, create_graph, grad_variables, inputs)\u001b[0m\n\u001b[1;32m    198\u001b[0m     \u001b[0;31m# some Python versions print out the first line of a multi-line function\u001b[0m\u001b[0;34m\u001b[0m\u001b[0;34m\u001b[0m\u001b[0m\n\u001b[1;32m    199\u001b[0m     \u001b[0;31m# calls in the traceback and some print out the last line\u001b[0m\u001b[0;34m\u001b[0m\u001b[0;34m\u001b[0m\u001b[0m\n\u001b[0;32m--> 200\u001b[0;31m     Variable._execution_engine.run_backward(  # Calls into the C++ engine to run the backward pass\n\u001b[0m\u001b[1;32m    201\u001b[0m         \u001b[0mtensors\u001b[0m\u001b[0;34m,\u001b[0m \u001b[0mgrad_tensors_\u001b[0m\u001b[0;34m,\u001b[0m \u001b[0mretain_graph\u001b[0m\u001b[0;34m,\u001b[0m \u001b[0mcreate_graph\u001b[0m\u001b[0;34m,\u001b[0m \u001b[0minputs\u001b[0m\u001b[0;34m,\u001b[0m\u001b[0;34m\u001b[0m\u001b[0;34m\u001b[0m\u001b[0m\n\u001b[1;32m    202\u001b[0m         allow_unreachable=True, accumulate_grad=True)  # Calls into the C++ engine to run the backward pass\n",
            "\u001b[0;31mKeyboardInterrupt\u001b[0m: "
          ]
        }
      ]
    },
    {
      "cell_type": "markdown",
      "metadata": {
        "id": "bgVm_yXkAuOL"
      },
      "source": [
        "---\n",
        "\n",
        "## Task 9: Evaluating the Model\n",
        "\n",
        "In this task, you will evaluate the performance of your model on the test set and visualize the training history. You will also analyze the model’s predictions on both individual and complete test samples.\n",
        "\n",
        "### Steps:\n",
        "1. Visualize the loss and accuracy over the training epochs.\n",
        "2. Prepare and preprocess the test data using functions from Task 2.\n",
        "3. Evaluate the model on the test set and examine individual predictions.\n",
        "4. Analyze the overall predictions and display a confusion matrix.\n",
        "\n",
        "---"
      ]
    },
    {
      "cell_type": "code",
      "execution_count": null,
      "metadata": {
        "id": "ENCfvXeLxIhX"
      },
      "outputs": [],
      "source": [
        "###############################################################################################################\n",
        "# TODO: Visualize the training history by plotting the loss and accuracy over the epochs to assess model      #\n",
        "#       performance. Use an appropriate visualization method to ensure clarity and effectiveness.             #\n",
        "#       you can use function implemented in Task 2 for your visualizations                                    #\n",
        "###############################################################################################################\n",
        "\n",
        "# Your code for visualizing the training history goes here\n",
        "\n"
      ]
    },
    {
      "cell_type": "code",
      "execution_count": null,
      "metadata": {
        "id": "kWuzoz8uxIha"
      },
      "outputs": [],
      "source": [
        "###############################################################################################################\n",
        "# TODO: Prepare the test set by extracting the tweets and labels, then convert the tweets into sequences using #\n",
        "#       the tokenizer. Ensure the format matches that of the training and validation sets.                     #\n",
        "###############################################################################################################\n",
        "\n",
        "# Your code for preparing the test set goes here\n",
        "# **************** DONE BEFORE ****************\n"
      ]
    },
    {
      "cell_type": "code",
      "execution_count": null,
      "metadata": {
        "id": "7vRVJ_2SxIhc"
      },
      "outputs": [],
      "source": [
        "###############################################################################################################\n",
        "# TODO: Evaluate the model's performance on the test set. Print the accuracy and loss, and review individual   #\n",
        "#       predictions to understand how the model is performing on unseen data.                                 #\n",
        "###############################################################################################################\n",
        "\n",
        "# Your code for evaluating the model and reviewing predictions goes here\n",
        "\n"
      ]
    },
    {
      "cell_type": "code",
      "execution_count": null,
      "metadata": {
        "id": "rh638vHG5ej6"
      },
      "outputs": [],
      "source": [
        "###############################################################################################################\n",
        "# TODO: Generate predictions for all test samples and analyze the model's overall performance. Display the     #\n",
        "#       confusion matrix to visualize the differences between true and predicted labels, helping to interpret  #\n",
        "#       the model's classification results.                                                                   #\n",
        "###############################################################################################################\n",
        "\n",
        "# Your code for generating predictions and displaying the confusion matrix goes here"
      ]
    },
    {
      "cell_type": "markdown",
      "metadata": {
        "id": "oYnbNnrjAuOM"
      },
      "source": [
        "# Final Analysis\n",
        "\n",
        "After visualizing the confusion matrix based on your model’s predictions, analyze the results and provide insights into the model’s classification performance.\n",
        "\n",
        "### **Question:**\n",
        "<span style=\"font-size: 1.2em;\">Which class seems to get confused with the class *love* the most?</span>\n",
        "\n",
        "**Remember the class labels:**\n",
        "- **0:** *Sadness*\n",
        "- **1:** *Joy*\n",
        "- **2:** *Love*\n",
        "- **3:** *Anger*\n",
        "- **4:** *Fear*\n",
        "- **5:** *Surprise*\n",
        "\n",
        "Reflect on the confusion matrix to answer this question and provide your reasoning for why this confusion might occur based on the emotional nature of the classes.\n"
      ]
    },
    {
      "cell_type": "code",
      "execution_count": null,
      "metadata": {
        "id": "hHl5SVCFxIhh"
      },
      "outputs": [],
      "source": []
    },
    {
      "cell_type": "markdown",
      "metadata": {
        "id": "qPKe5XhPAuOM"
      },
      "source": [
        "# **Best regards.**"
      ]
    }
  ],
  "metadata": {
    "colab": {
      "provenance": [],
      "toc_visible": true
    },
    "kernelspec": {
      "display_name": "Python 3",
      "name": "python3"
    },
    "language_info": {
      "codemirror_mode": {
        "name": "ipython",
        "version": 3
      },
      "file_extension": ".py",
      "mimetype": "text/x-python",
      "name": "python",
      "nbconvert_exporter": "python",
      "pygments_lexer": "ipython3",
      "version": "3.10.5"
    }
  },
  "nbformat": 4,
  "nbformat_minor": 0
}